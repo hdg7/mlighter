{
 "cells": [
  {
   "cell_type": "markdown",
   "id": "4ed08cdd",
   "metadata": {},
   "source": [
    "# MLighter Interface\n"
   ]
  },
  {
   "cell_type": "markdown",
   "id": "abd8c9d8",
   "metadata": {},
   "source": [
    "## Headers\n",
    "\n",
    "This first part shows contains all the headers for the interface "
   ]
  },
  {
   "cell_type": "code",
   "execution_count": 1,
   "id": "560ec0c1",
   "metadata": {},
   "outputs": [],
   "source": [
    "## @package MLigther                                                              \n",
    "#    Copyright 2022 Hector D. Menendez                                            \n",
    "#                                                                                 \n",
    "#   Licensed under the Apache License, Version 2.0 (the \"License\");               \n",
    "#   you may not use this file except in compliance with the License.              \n",
    "#   You may obtain a copy of the License at                                       \n",
    "#                                                                                 \n",
    "#       http://www.apache.org/licenses/LICENSE-2.0                                \n",
    "#                                                                                 \n",
    "#   Unless required by applicable law or agreed to in writing, software           \n",
    "#   distributed under the License is distributed on an \"AS IS\" BASIS,             \n",
    "#   WITHOUT WARRANTIES OR CONDITIONS OF ANY KIND, either express or implied.      \n",
    "#   See the License for the specific language governing permissions and           \n",
    "#   limitations under the License.                                                \n",
    "#                                                                                 \n",
    "#  Documentation for this module.                                                 \n",
    "#                                                                                 \n",
    "#  More details.  "
   ]
  },
  {
   "cell_type": "code",
   "execution_count": 2,
   "id": "bdf02745",
   "metadata": {},
   "outputs": [],
   "source": [
    "#This code is to load the widgets\n",
    "import ipywidgets as widgets\n",
    "import ipyvuetify as v\n",
    "from IPython.display import display\n",
    "import pandas\n",
    "import numpy as np\n",
    "import threading\n",
    "import bqplot.pyplot as plt\n",
    "\n",
    "#import plotly.express as px\n",
    "#dataset.head()"
   ]
  },
  {
   "cell_type": "markdown",
   "id": "aaeca346",
   "metadata": {},
   "source": [
    "## MLighter Setup\n",
    "\n",
    "This bit prepares the MLighter object"
   ]
  },
  {
   "cell_type": "code",
   "execution_count": 3,
   "id": "0338e295",
   "metadata": {},
   "outputs": [],
   "source": [
    "import sys\n",
    "import os\n",
    "\n",
    "#sys.path.append(os.environ[\"EURY_HOME\"])\n",
    "homeValue=None\n",
    "homeValue=os.getenv('MLIGHTER_HOME')\n",
    "if homeValue is None:\n",
    "    homeValue=os.getenv('HOME')+\"/mlighter/mlighter\"\n",
    "sys.path.append(homeValue+\"/backend\")\n",
    "from MLighter import MLighter\n",
    "session = MLighter({})"
   ]
  },
  {
   "cell_type": "code",
   "execution_count": 4,
   "id": "99275478",
   "metadata": {},
   "outputs": [],
   "source": [
    "bugsRun={}"
   ]
  },
  {
   "cell_type": "markdown",
   "id": "f3921866",
   "metadata": {},
   "source": [
    "## Content title\n",
    "This part contains the first Vuetify object that sets the content-title"
   ]
  },
  {
   "cell_type": "code",
   "execution_count": 5,
   "id": "351d2add",
   "metadata": {},
   "outputs": [],
   "source": [
    "appbar_title = v.ToolbarTitle(\n",
    "    _metadata={'mount_id':'content-title'},\n",
    "    children=['MLighter']\n",
    ")\n",
    "\n",
    "appbar_subtitle = v.ToolbarTitle(\n",
    "    _metadata={'mount_id':'content-bar'},\n",
    "    children=['MLighter Main Menu']\n",
    ")"
   ]
  },
  {
   "cell_type": "markdown",
   "id": "7237c4e1",
   "metadata": {},
   "source": [
    "## Front Page\n",
    "\n",
    "This bit contains the front page."
   ]
  },
  {
   "cell_type": "code",
   "execution_count": 6,
   "id": "7236c1c3",
   "metadata": {},
   "outputs": [],
   "source": [
    "mainTitle=\"MLighter\"\n",
    "\n",
    "mainString1=\"Welcome to MLighter, your holistic tool to test machine learning implementations. Here, you \\\n",
    "have two main options, testing your code or testing you machine learning model.\"\n",
    "\n",
    "codeString1=\"If you want to \"\n",
    "codeString2=\"test your code\"\n",
    "codeString3=\", you can either run an active testing or perform a code review \\\n",
    "using our database of vulnerabilities in machine learning implementations.\"\n",
    "\n",
    "modelString1=\"If you want to \"\n",
    "modelString2=\"test your model\"\n",
    "modelString3=\", you just need to upload your model with some data and select \\\n",
    "and adversarial scenario. MLighter will aim to identify variants to your model based on your criteria to \\\n",
    "measure its robustness.\"\n",
    "\n"
   ]
  },
  {
   "cell_type": "code",
   "execution_count": 7,
   "id": "a1976bab",
   "metadata": {},
   "outputs": [
    {
     "data": {
      "application/vnd.jupyter.widget-view+json": {
       "model_id": "46c7d871ebe14c7d9d3a9574120ef5af",
       "version_major": 2,
       "version_minor": 0
      },
      "text/plain": [
       "Img(src='logo.png', width=200.0)"
      ]
     },
     "metadata": {},
     "output_type": "display_data"
    },
    {
     "name": "stdout",
     "output_type": "stream",
     "text": [
      "Img(src='logo.png', width=200.0)\n"
     ]
    }
   ],
   "source": [
    "generalSpace=v.Html(\n",
    "        tag='br'\n",
    "    )\n",
    "\n",
    "mainTitle=v.Html(\n",
    "        tag='h1',\n",
    "        attributes={'title': 'a title'},\n",
    "        children=[mainTitle],\n",
    "        style_=\"text-align:center\"\n",
    "    )\n",
    "\n",
    "mainLogo=v.Img(src=\"logo.png\",width=200)\n",
    "\n",
    "mainLogoCentre=v.Html(\n",
    "        tag='center',\n",
    "        attributes={'paragraph': 'p1'},\n",
    "        children=[mainLogo]\n",
    "    )\n",
    "mainParagh1=v.Html(\n",
    "        tag='p',\n",
    "        attributes={'paragraph': 'p1'},\n",
    "        children=[mainString1]\n",
    "    )\n",
    "\n",
    "mainParagh2Bold=v.Html(\n",
    "        tag='b',\n",
    "        attributes={'paragraph': 'p1'},\n",
    "        children=[codeString2]\n",
    "    )\n",
    "\n",
    "\n",
    "mainParagh2=v.Html(\n",
    "        tag='p',\n",
    "        attributes={'paragraph': 'p1'},\n",
    "        children=[codeString1,mainParagh2Bold,codeString3]\n",
    "    )\n",
    "\n",
    "mainParagh3Bold=v.Html(\n",
    "        tag='b',\n",
    "        attributes={'paragraph': 'p1'},\n",
    "        children=[modelString2]\n",
    "    )\n",
    "\n",
    "mainParagh3=v.Html(\n",
    "        tag='p',\n",
    "        attributes={'paragraph': 'p1'},\n",
    "        children=[modelString1,mainParagh3Bold,modelString3]\n",
    "    )\n",
    "\n",
    "display(mainLogo)\n",
    "print(mainLogo)"
   ]
  },
  {
   "cell_type": "code",
   "execution_count": 8,
   "id": "1a94ccfe",
   "metadata": {},
   "outputs": [
    {
     "data": {
      "application/vnd.jupyter.widget-view+json": {
       "model_id": "1f3367613229407d88134ebac98a57d4",
       "version_major": 2,
       "version_minor": 0
      },
      "text/plain": [
       "Layout(align_center=True, children=[Flex(children=[Container(children=[Html(attributes={'paragraph': 'p1'}, ch…"
      ]
     },
     "metadata": {},
     "output_type": "display_data"
    }
   ],
   "source": [
    "pageMain=v.Layout(row=True, wrap=True, align_center=True, children=[\n",
    "            v.Flex(xs12=True, lg6=True, xl4=True,  pa_4=True, children=[\n",
    "                v.Container(children=[mainLogoCentre,generalSpace,mainTitle,generalSpace,mainParagh1,mainParagh2,mainParagh3])\n",
    "            ]),\n",
    "        ])\n",
    "pageMain"
   ]
  },
  {
   "cell_type": "markdown",
   "id": "b4fbf551",
   "metadata": {},
   "source": [
    "## Model Help Page\n",
    "\n",
    "This bit contains the description page for this sections which aims to help the user."
   ]
  },
  {
   "cell_type": "code",
   "execution_count": 9,
   "id": "4ca5361c",
   "metadata": {},
   "outputs": [],
   "source": [
    "datahelpTitleString='Uploading the Test Data'\n",
    "datahelpString1=\"First you need to load valid data for your model, MLighter will use this data to \\\n",
    "create variants according to the different adversarial scenarios.\"\n",
    "datahelpString2=\"Once you have uploaded the data, check that the features chosen are the ones that you \\\n",
    "want to use. If there are features that you need to remove, please use go to \\'Clean Features\\' and remove \\\n",
    "any unnecessary feature.\"\n",
    "datahelpString3=\"You also need to select the class or target feature, please do it in \\'Select Class\\'.\"\n",
    "\n",
    "modelhelpTitleString='Uploading the Model'\n",
    "modelhelpString1=\"In this section, you can upload your model. In order to check whether the data and model \\\n",
    "are compatible, you can use the prediction and evaluate whether there is a valid prediction.\"\n",
    "\n",
    "evasionhelpTitleString='Choosing the Evasion'\n",
    "evasionhelpString1=\"In this part, you have different evasion scenarios where you can choose and configure the \\\n",
    "most likely to affect your model. Some scenarios generate random variants while others use a learning \\\n",
    "strategy. Once you have it ready, go to run and create variants.\"\n",
    "\n",
    "runhelpTitleString='Creating Variants'\n",
    "runhelpString1=\"You should only run the code if you have loaded the data and model, and you have select an \\\n",
    "adversarial scenario. Here you can run the scenario and create variants. If you want to see the effect of \\\n",
    "these variants in your model, go to reports.\"\n",
    "\n",
    "reportshelpTitleString='Reading the Reports'\n",
    "reportshelpString1=\"This part shows the results in terms of robustness and accuracy for your adversarial \\\n",
    "attack. The higher the robustness the better the model is to resists the attack. If you want to see any of \\\n",
    "the successful variants, go to the variants tab.\"\n"
   ]
  },
  {
   "cell_type": "code",
   "execution_count": 10,
   "id": "503a38eb",
   "metadata": {},
   "outputs": [],
   "source": [
    "#DataHelp Menu\n",
    "\n",
    "datahelpTitle=v.Html(\n",
    "        tag='h1',\n",
    "        attributes={'title': 'a title'},\n",
    "        children=[datahelpTitleString],\n",
    "        style_=\"text-align:center\"\n",
    "    )\n",
    "\n",
    "datahelpParagh1=v.Html(\n",
    "        tag='p',\n",
    "        attributes={'paragraph': 'p1'},\n",
    "        children=[datahelpString1]\n",
    "    )\n",
    "\n",
    "datahelpParagh2=v.Html(\n",
    "        tag='p',\n",
    "        attributes={'paragraph': 'p2'},\n",
    "        children=[datahelpString2]\n",
    "    )\n",
    "\n",
    "datahelpParagh3=v.Html(\n",
    "        tag='p',\n",
    "        attributes={'paragraph': 'p3'},\n",
    "        children=[datahelpString3]\n",
    "    )\n",
    "\n",
    "#ModelHelp Menu\n",
    "\n",
    "modelhelpTitle=v.Html(\n",
    "        tag='h1',\n",
    "        attributes={'title': 'a title'},\n",
    "        children=[modelhelpTitleString],\n",
    "        style_=\"text-align:center\"\n",
    "    )\n",
    "\n",
    "modelhelpParagh1=v.Html(\n",
    "        tag='p',\n",
    "        attributes={'paragraph': 'p1'},\n",
    "        children=[modelhelpString1]\n",
    "    )\n",
    "\n",
    "#EvasionHelp Menu\n",
    "\n",
    "evasionhelpTitle=v.Html(\n",
    "        tag='h1',\n",
    "        attributes={'title': 'a title'},\n",
    "        children=[evasionhelpTitleString],\n",
    "        style_=\"text-align:center\"\n",
    "    )\n",
    "\n",
    "evasionhelpParagh1=v.Html(\n",
    "        tag='p',\n",
    "        attributes={'paragraph': 'p1'},\n",
    "        children=[evasionhelpString1]\n",
    "    )\n",
    "\n",
    "#RunHelp Menu\n",
    "\n",
    "runhelpTitle=v.Html(\n",
    "        tag='h1',\n",
    "        attributes={'title': 'a title'},\n",
    "        children=[runhelpTitleString],\n",
    "        style_=\"text-align:center\"\n",
    "    )\n",
    "\n",
    "runhelpParagh1=v.Html(\n",
    "        tag='p',\n",
    "        attributes={'paragraph': 'p1'},\n",
    "        children=[runhelpString1]\n",
    "    )\n",
    "\n",
    "#ReportHelp Menu\n",
    "\n",
    "reportshelpTitle=v.Html(\n",
    "        tag='h1',\n",
    "        attributes={'title': 'a title'},\n",
    "        children=[reportshelpTitleString],\n",
    "        style_=\"text-align:center\"\n",
    "    )\n",
    "\n",
    "reportshelpParagh1=v.Html(\n",
    "        tag='p',\n",
    "        attributes={'paragraph': 'p1'},\n",
    "        children=[reportshelpString1]\n",
    "    )\n"
   ]
  },
  {
   "cell_type": "code",
   "execution_count": 11,
   "id": "ee15ad3c",
   "metadata": {},
   "outputs": [
    {
     "data": {
      "application/vnd.jupyter.widget-view+json": {
       "model_id": "dec70c3fe5104f948c3bb09ab8f3b661",
       "version_major": 2,
       "version_minor": 0
      },
      "text/plain": [
       "Tabs(children=[Tab(children=['Dataset']), Tab(children=['Model']), Tab(children=['Evasion']), Tab(children=['R…"
      ]
     },
     "metadata": {},
     "output_type": "display_data"
    }
   ],
   "source": [
    "pageHelpModel=v.Tabs(children=[\n",
    "    v.Tab(children=['Dataset']),\n",
    "    v.Tab(children=['Model']),\n",
    "    v.Tab(children=['Evasion']),\n",
    "    v.Tab(children=['Run']),\n",
    "    v.Tab(children=['Report']),    \n",
    "    v.TabItem(children=[\n",
    "        v.Layout(row=True, wrap=True, align_center=True, children=[\n",
    "            v.Flex(xs12=True, lg6=True, xl4=True, pa_4=True, children=[\n",
    "                v.Container(children=[datahelpTitle,generalSpace,datahelpParagh1,datahelpParagh2,\n",
    "                                      datahelpParagh3])\n",
    "            ]),\n",
    "        ])\n",
    "      ]),\n",
    "    v.TabItem(children=[\n",
    "         v.Layout(row=True, wrap=True, align_center=True, children=[\n",
    "            v.Flex(xs12=True, lg6=True, xl4=True, pa_4=True, children=[\n",
    "               v.Container(children=[modelhelpTitle,generalSpace,modelhelpParagh1])\n",
    "            ]),\n",
    "        ])\n",
    "    ]),\n",
    "    v.TabItem(children=[\n",
    "         v.Layout(row=True, wrap=True, align_center=True, children=[\n",
    "            v.Flex(xs12=True, lg6=True, xl4=True,pa_4=True,  children=[\n",
    "               v.Container(children=[evasionhelpTitle,generalSpace,evasionhelpParagh1])\n",
    "            ]),\n",
    "        ])\n",
    "    ]),\n",
    "    v.TabItem(children=[\n",
    "         v.Layout(row=True, wrap=True, align_center=True, children=[\n",
    "            v.Flex(xs12=True, lg6=True, xl4=True, pa_4=True,children=[\n",
    "               v.Container(children=[runhelpTitle,generalSpace,runhelpParagh1])\n",
    "            ]),\n",
    "        ])\n",
    "    ]),\n",
    "    v.TabItem(children=[\n",
    "         v.Layout(row=True, wrap=True, align_center=True,  children=[\n",
    "            v.Flex(xs12=True, lg6=True, xl4=True,pa_4=True,  children=[\n",
    "               v.Container(children=[reportshelpTitle,generalSpace,reportshelpParagh1])\n",
    "            ]),\n",
    "        ])\n",
    "    ])\n",
    "])\n",
    "pageHelpModel"
   ]
  },
  {
   "cell_type": "markdown",
   "id": "4f8d0595",
   "metadata": {},
   "source": [
    "## Model Firts Page: Dataset \n",
    "\n",
    "This bit contains the first page that will handle the user's data"
   ]
  },
  {
   "cell_type": "markdown",
   "id": "00a2bcb2",
   "metadata": {},
   "source": [
    "### Widgets"
   ]
  },
  {
   "cell_type": "code",
   "execution_count": 12,
   "id": "f37ef9a3",
   "metadata": {},
   "outputs": [],
   "source": [
    "uploaderDataset = widgets.FileUpload(\n",
    "    accept='',  # Accepted file extension e.g. '.txt', '.pdf', 'image/*', 'image/*,.pdf'\n",
    "    multiple=False  # True to accept multiple files upload else False\n",
    ")\n",
    "#display(uploader)"
   ]
  },
  {
   "cell_type": "code",
   "execution_count": 13,
   "id": "e39b766f",
   "metadata": {},
   "outputs": [],
   "source": [
    "#featureSelection = widgets.SelectMultiple(\n",
    "#    options=[],\n",
    "#    value=[],\n",
    "#    #rows=10,\n",
    "#    description='Features',\n",
    "#    disabled=False\n",
    "#)\n",
    "#featureSelection"
   ]
  },
  {
   "cell_type": "code",
   "execution_count": 14,
   "id": "0c536e6d",
   "metadata": {},
   "outputs": [
    {
     "data": {
      "application/vnd.jupyter.widget-view+json": {
       "model_id": "164d1be28e854149964a95036dcd52e0",
       "version_major": 2,
       "version_minor": 0
      },
      "text/plain": [
       "DataTable(class_='elevation-1', headers=[], item_key='Feature', items=[], show_select=True, single_select=Fals…"
      ]
     },
     "metadata": {},
     "output_type": "display_data"
    }
   ],
   "source": [
    "tableFeatures=v.DataTable(headers=[],class_=\"elevation-1\",v_model=[],item_key=\"Feature\",single_select=False,show_select=True,items=[])\n",
    "display(tableFeatures)"
   ]
  },
  {
   "cell_type": "code",
   "execution_count": 15,
   "id": "bd1991ab",
   "metadata": {},
   "outputs": [],
   "source": [
    "removeButtom=v.Btn(color='primary', children=['Remove Features'])\n"
   ]
  },
  {
   "cell_type": "code",
   "execution_count": 16,
   "id": "44d8c0a9",
   "metadata": {},
   "outputs": [],
   "source": [
    "targetButtom=v.Btn(color='primary', children=['Select Class'])\n"
   ]
  },
  {
   "cell_type": "code",
   "execution_count": 17,
   "id": "7b6bc8d8",
   "metadata": {},
   "outputs": [],
   "source": [
    "tableData=v.DataTable(headers=[],class_=\"elevation-1\",items=[])\n"
   ]
  },
  {
   "cell_type": "markdown",
   "id": "841a422a",
   "metadata": {},
   "source": [
    "### Strings"
   ]
  },
  {
   "cell_type": "code",
   "execution_count": 18,
   "id": "28d6931e",
   "metadata": {},
   "outputs": [],
   "source": [
    "datasetString=\"Please provide at least one sample from your dataset (including headers)\\n\"\n",
    "datasetSelectString=\"Please select the feature that represents the class\\n\"\n",
    "datasetRemoveString=\"Remove those classes that are not relevant for the model\\n\"\n",
    "datasetLoadedString=\"Data Ready\\n\"\n",
    "datasetLoadedBox=widgets.Text(\"\")"
   ]
  },
  {
   "cell_type": "markdown",
   "id": "7c85d969",
   "metadata": {},
   "source": [
    "### Functions"
   ]
  },
  {
   "cell_type": "code",
   "execution_count": 19,
   "id": "937379e4",
   "metadata": {},
   "outputs": [],
   "source": [
    "def update_dataset(change):\n",
    "    uploaded_file = uploaderDataset.value[0]['content']\n",
    "    uploaded_fileName =uploaderDataset.value[0][\"name\"]\n",
    "    print(uploaded_fileName)\n",
    "    session.uploadDataset(\"structured\",datasetName=uploaded_fileName,dataFile=uploaded_file)\n",
    "    y = map(lambda v : {'text':v,'value':v} ,session.data.getColumns())\n",
    "    headers=list(y)\n",
    "    dicVer=session.data.data.to_dict('records')\n",
    "    items=dicVer\n",
    "    tableData.headers=headers\n",
    "    tableData.items=items\n",
    "    y = map(lambda v : {\"Feature\":v} ,session.data.getColumns())\n",
    "    tableFeatures.headers=[ {'text':\"Feature\",'value':\"Feature\"}]\n",
    "    tableFeatures.items=list(y)\n",
    "    targetButtom.disable=False\n",
    "    #display(mytable)\n",
    "    #print(\"heloo\")\n",
    "    #dataVisual.setDataset(pd.read_csv(io.BytesIO(uploaded_file)))\n",
    "    if not page1 is None:\n",
    "        print(\"Hey\")\n",
    "        datasetLoadedBox.value=datasetLoadedString+\"\\n\"+repr(session.data.data)\n",
    "    #print(dataVisual.table)\n",
    "\n",
    "# register update dataset \n",
    "uploaderDataset.observe(update_dataset, 'value')\n",
    "#widgets.link((uploaderDataset, 'value'), (datasetLoadedBox, 'value'))\n"
   ]
  },
  {
   "cell_type": "code",
   "execution_count": 20,
   "id": "ff08eef3",
   "metadata": {},
   "outputs": [],
   "source": [
    "def remove(widget, event, data):\n",
    "    for elem in tableFeatures.v_model:\n",
    "        session.data.cleanColumn(elem[\"Feature\"])\n",
    "    tableFeatures.v_model=[]\n",
    "    y = map(lambda v : {'text':v,'value':v} ,session.data.getColumns())\n",
    "    headers=list(y)\n",
    "    dicVer=session.data.data.to_dict('records')\n",
    "    items=dicVer\n",
    "    tableData.headers=headers\n",
    "    tableData.items=items\n",
    "    y = map(lambda v : {\"Feature\":v} ,session.data.getColumns())\n",
    "    tableFeatures.headers=[ {'text':\"Feature\",'value':\"Feature\"}]\n",
    "    tableFeatures.items=list(y)\n",
    "removeButtom.on_event('click', remove)"
   ]
  },
  {
   "cell_type": "code",
   "execution_count": 21,
   "id": "16d1538b",
   "metadata": {},
   "outputs": [],
   "source": [
    "def target(widget, event, data):\n",
    "    for elem in tableFeatures.v_model:\n",
    "        session.data.setTarget(elem[\"Feature\"])\n",
    "    tableFeatures.v_model=[]\n",
    "    targetButtom.disabled=True\n",
    "    print(session.data.targetName)\n",
    "targetButtom.on_event('click', target)"
   ]
  },
  {
   "cell_type": "markdown",
   "id": "14431980",
   "metadata": {},
   "source": [
    "### Final Page Setup"
   ]
  },
  {
   "cell_type": "code",
   "execution_count": 22,
   "id": "9da18889",
   "metadata": {},
   "outputs": [
    {
     "data": {
      "application/vnd.jupyter.widget-view+json": {
       "model_id": "c04f8e818f8f44808a4c9dd4a1cab9da",
       "version_major": 2,
       "version_minor": 0
      },
      "text/plain": [
       "Tabs(children=[Tab(children=['Dataset']), Tab(children=['Clean Features']), Tab(children=['Select Class']), Ta…"
      ]
     },
     "metadata": {},
     "output_type": "display_data"
    }
   ],
   "source": [
    "page1=v.Tabs(children=[\n",
    "    v.Tab(children=['Dataset']),\n",
    "    v.Tab(children=['Clean Features']),\n",
    "    v.Tab(children=['Select Class']),\n",
    "    v.TabItem(children=[\n",
    "        v.Layout(row=True, wrap=True, align_center=True, children=[\n",
    "            v.Flex(xs12=True, lg6=True, xl4=True, pa_4=True, children=[\n",
    "                v.Container(children=[datasetString,generalSpace,uploaderDataset,tableData])\n",
    "            ]),\n",
    "        ])\n",
    "      ]),\n",
    "    v.TabItem(children=[\n",
    "        v.Layout(row=True, wrap=True, align_center=True, children=[\n",
    "            v.Flex(xs12=True, lg6=True, xl4=True, pa_4=True, children=[\n",
    "                v.Container(children=[datasetRemoveString,generalSpace,removeButtom,tableFeatures])\n",
    "            ]),\n",
    "        ])\n",
    "    ]),\n",
    "    v.TabItem(children=[\n",
    "        v.Layout(row=True, wrap=True, align_center=True, children=[\n",
    "            v.Flex(xs12=True, lg6=True, xl4=True, pa_4=True, children=[\n",
    "                v.Container(children=[datasetSelectString,generalSpace,targetButtom,tableFeatures])\n",
    "            ]),\n",
    "        ])\n",
    "    ])\n",
    "])\n",
    "page1\n"
   ]
  },
  {
   "cell_type": "markdown",
   "id": "639f7117",
   "metadata": {},
   "source": [
    "## Model Second Page: Model\n",
    "\n",
    "This bit contains the second page that will handle the user's model"
   ]
  },
  {
   "cell_type": "markdown",
   "id": "21dc9169",
   "metadata": {},
   "source": [
    "### Widgets"
   ]
  },
  {
   "cell_type": "code",
   "execution_count": 23,
   "id": "55b5b533",
   "metadata": {},
   "outputs": [
    {
     "data": {
      "application/vnd.jupyter.widget-view+json": {
       "model_id": "e16edde5796748f8aa39259682fb2f7b",
       "version_major": 2,
       "version_minor": 0
      },
      "text/plain": [
       "FileUpload(value={}, description='Upload')"
      ]
     },
     "metadata": {},
     "output_type": "display_data"
    }
   ],
   "source": [
    "uploaderModel = widgets.FileUpload(\n",
    "    accept='',  # Accepted file extension e.g. '.txt', '.pdf', 'image/*', 'image/*,.pdf'\n",
    "    multiple=False  # True to accept multiple files upload else False\n",
    ")\n",
    "display(uploaderModel)"
   ]
  },
  {
   "cell_type": "code",
   "execution_count": 24,
   "id": "894d692a",
   "metadata": {},
   "outputs": [],
   "source": [
    "preEvalButtom=v.Btn(color='primary', children=['Run PreEvalution'])\n"
   ]
  },
  {
   "cell_type": "code",
   "execution_count": 25,
   "id": "a0b7fcea",
   "metadata": {},
   "outputs": [],
   "source": [
    "headers=[{'text':'Expected','value':'Expected'},{'text':'Predicted','value':'Predicted'}]\n",
    "tablePreevaluation=v.DataTable(headers=headers,class_=\"elevation-1\",items=[])\n"
   ]
  },
  {
   "cell_type": "markdown",
   "id": "f6554fc5",
   "metadata": {},
   "source": [
    "### Strings"
   ]
  },
  {
   "cell_type": "code",
   "execution_count": 26,
   "id": "512c71e0",
   "metadata": {},
   "outputs": [],
   "source": [
    "modelString=\"Please provide the model you want to evaluate\\n\"\n",
    "modelLoadedString=\"Model Ready\\n\"\n",
    "modelLoadedBox=widgets.Text(\"\")\n",
    "modelPreEvalBox=widgets.Text(\"\")"
   ]
  },
  {
   "cell_type": "markdown",
   "id": "6b7b3ac6",
   "metadata": {},
   "source": [
    "### Functions\n",
    "Functions for the model handling"
   ]
  },
  {
   "cell_type": "code",
   "execution_count": 27,
   "id": "e03c7482",
   "metadata": {},
   "outputs": [],
   "source": [
    "def update_model(change):\n",
    "    uploaded_file = uploaderModel.value[0]['content']\n",
    "    uploaded_fileName =uploaderModel.value[0][\"name\"]\n",
    "    session.uploadModel(\"sklearn\",uploaded_fileName,modelFile=uploaded_file)\n",
    "    #print(\"heloo\")\n",
    "    #dataVisual.setDataset(pd.read_csv(io.BytesIO(uploaded_file)))\n",
    "    if not page2 is None:\n",
    "        #print(\"Hey\")\n",
    "        #modelLoadedBox.value=modelLoadedString+\"\\n\"+repr(session.model)\n",
    "        modelLoadedBox.value=modelLoadedString+\"\\n\"\n",
    "    #print(dataVisual.table)\n",
    "\n",
    "# register update dataset \n",
    "uploaderModel.observe(update_model, 'value')\n",
    "#widgets.link((uploaderDataset, 'value'), (datasetLoadedBox, 'value'))\n"
   ]
  },
  {
   "cell_type": "code",
   "execution_count": 28,
   "id": "1c064c17",
   "metadata": {},
   "outputs": [],
   "source": [
    "def preevaluate(widget, event, data):\n",
    "    predictions=session.prediction(session.data.data)\n",
    "    modelPreEvalBox.value=\"Predicted\" + \"\\n\"+repr(predictions)\n",
    "    dfPredictions=pandas.DataFrame()\n",
    "    dfPredictions[\"Expected\"]=list(session.data.target)\n",
    "    dfPredictions[\"Predicted\"]=predictions\n",
    "    coincidences=dfPredictions[\"Expected\"]==dfPredictions[\"Predicted\"]\n",
    "    session.data.originalAccuracy=sum(coincidences)\n",
    "    tablePreevaluation.items=dfPredictions.to_dict('records')\n",
    "    print(\"Predictions: \", dfPredictions)\n",
    "    #print(\"Predictions: \", session.data.target)\n",
    "    \n",
    "preEvalButtom.on_event('click', preevaluate)"
   ]
  },
  {
   "cell_type": "markdown",
   "id": "2de70c14",
   "metadata": {},
   "source": [
    "### Final Page Setup"
   ]
  },
  {
   "cell_type": "code",
   "execution_count": 29,
   "id": "a569bd78",
   "metadata": {},
   "outputs": [
    {
     "data": {
      "application/vnd.jupyter.widget-view+json": {
       "model_id": "ffb305fe90f547a8bb43d903be513a6c",
       "version_major": 2,
       "version_minor": 0
      },
      "text/plain": [
       "Tabs(children=[Tab(children=['Model']), Tab(children=['PreEvaluation']), TabItem(children=[Layout(align_center…"
      ]
     },
     "metadata": {},
     "output_type": "display_data"
    }
   ],
   "source": [
    "page2=v.Tabs(children=[\n",
    "    v.Tab(children=['Model']),\n",
    "    v.Tab(children=['PreEvaluation']),\n",
    "    v.TabItem(children=[\n",
    "        v.Layout(row=True, wrap=True, align_center=True, children=[\n",
    "            v.Flex(xs12=True, lg6=True, xl4=True,  pa_4=True, children=[\n",
    "                v.Container(children=[modelString,uploaderModel,modelLoadedBox])\n",
    "            ]),\n",
    "        ])\n",
    "    ]),\n",
    "    v.TabItem(children=[\n",
    "        v.Container(children=[preEvalButtom,tablePreevaluation])\n",
    "    ])\n",
    "])\n",
    "page2"
   ]
  },
  {
   "cell_type": "code",
   "execution_count": 30,
   "id": "eb078d72",
   "metadata": {},
   "outputs": [],
   "source": [
    "#from tempfile import TemporaryFile\n",
    "#from joblib import dump, load\n",
    "\n",
    "#uploaded_file = uploaderModel.value[uploaderModel.metadata[0][\"name\"]]['content']\n",
    "#print(uploaded_file)\n",
    "#file2=TemporaryFile(mode=\"w+b\")\n",
    "#file2.write(uploaded_file)\n",
    "#file2.seek(0)\n",
    "#test=load(file2)\n",
    "#print(test.predict)"
   ]
  },
  {
   "cell_type": "markdown",
   "id": "f3412143",
   "metadata": {},
   "source": [
    "## Model Third Page: Evasion\n",
    "\n",
    "This bit contains the third page that will handle the evasive attack"
   ]
  },
  {
   "cell_type": "code",
   "execution_count": 31,
   "id": "62cde29f",
   "metadata": {},
   "outputs": [],
   "source": [
    "configuration={}\n",
    "configuration[\"numberVariants\"]=1"
   ]
  },
  {
   "cell_type": "markdown",
   "id": "07a0dd25",
   "metadata": {},
   "source": [
    "### Strings"
   ]
  },
  {
   "cell_type": "code",
   "execution_count": 32,
   "id": "d335dafb",
   "metadata": {},
   "outputs": [],
   "source": [
    "evasionVarPerInputString=\"Select the number of variants per input:\"\n",
    "evasionNoiseString=\"Select the level of noise:\"\n",
    "evasionShiftString=\"Select the shift:\""
   ]
  },
  {
   "cell_type": "markdown",
   "id": "80f05cd3",
   "metadata": {},
   "source": [
    "### Evasion Buttoms"
   ]
  },
  {
   "cell_type": "code",
   "execution_count": 33,
   "id": "64728b99",
   "metadata": {},
   "outputs": [
    {
     "data": {
      "application/vnd.jupyter.widget-view+json": {
       "model_id": "716af56160214277af1a2be143d29533",
       "version_major": 2,
       "version_minor": 0
      },
      "text/plain": [
       "Select(items=['Random Noise', 'General Search', 'Target Class Search'], label='Evasion Strategy', v_model='Ran…"
      ]
     },
     "metadata": {},
     "output_type": "display_data"
    },
    {
     "data": {
      "application/vnd.jupyter.widget-view+json": {
       "model_id": "8ff16e71b94a4a4aa4c568efbeb71a7d",
       "version_major": 2,
       "version_minor": 0
      },
      "text/plain": [
       "Select(items=['None', 'Discrete', 'Continuous'], label='Type of Evasion', v_model='None')"
      ]
     },
     "metadata": {},
     "output_type": "display_data"
    }
   ],
   "source": [
    "evasion_strategy = v.Select(\n",
    "    v_model=\"Random Noise\",\n",
    "    label='Evasion Strategy',\n",
    "    items=['Random Noise', 'General Search', 'Target Class Search'])\n",
    "display(evasion_strategy)\n",
    "\n",
    "evasion_select = v.Select(\n",
    "    v_model=\"None\",\n",
    "    label='Type of Evasion',\n",
    "    items=['None','Discrete', 'Continuous'])\n",
    "display(evasion_select)"
   ]
  },
  {
   "cell_type": "code",
   "execution_count": 34,
   "id": "555ed844",
   "metadata": {},
   "outputs": [
    {
     "data": {
      "application/vnd.jupyter.widget-view+json": {
       "model_id": "3106af5ce3884f04a2c876b97f87f3aa",
       "version_major": 2,
       "version_minor": 0
      },
      "text/plain": [
       "IntSlider(value=1, max=10, min=1)"
      ]
     },
     "metadata": {},
     "output_type": "display_data"
    }
   ],
   "source": [
    "numberVariants = widgets.IntSlider()\n",
    "numberVariants.min=1\n",
    "numberVariants.max=10\n",
    "\n",
    "display(numberVariants)"
   ]
  },
  {
   "cell_type": "code",
   "execution_count": 35,
   "id": "a49a925b",
   "metadata": {},
   "outputs": [
    {
     "data": {
      "application/vnd.jupyter.widget-view+json": {
       "model_id": "5d4e7b5edab9445aa9eb34e4b6aa9876",
       "version_major": 2,
       "version_minor": 0
      },
      "text/plain": [
       "IntSlider(value=0, max=5, min=-5)"
      ]
     },
     "metadata": {},
     "output_type": "display_data"
    },
    {
     "data": {
      "application/vnd.jupyter.widget-view+json": {
       "model_id": "d07976cdc1a0418b9f0d8ae00be60238",
       "version_major": 2,
       "version_minor": 0
      },
      "text/plain": [
       "FloatSlider(value=0.0, max=5.0, min=-5.0)"
      ]
     },
     "metadata": {},
     "output_type": "display_data"
    },
    {
     "data": {
      "application/vnd.jupyter.widget-view+json": {
       "model_id": "1dcb2d907f96421a9f4d0606c7116414",
       "version_major": 2,
       "version_minor": 0
      },
      "text/plain": [
       "IntSlider(value=0, max=5, min=-5)"
      ]
     },
     "metadata": {},
     "output_type": "display_data"
    },
    {
     "data": {
      "application/vnd.jupyter.widget-view+json": {
       "model_id": "e54037ff88de45cca977ce250f4d066d",
       "version_major": 2,
       "version_minor": 0
      },
      "text/plain": [
       "FloatSlider(value=0.0, max=5.0, min=-5.0)"
      ]
     },
     "metadata": {},
     "output_type": "display_data"
    }
   ],
   "source": [
    "noiseInt = widgets.IntSlider()\n",
    "noiseInt.min=-5\n",
    "noiseInt.max=5\n",
    "\n",
    "noiseFloat = widgets.FloatSlider()\n",
    "noiseFloat.min=-5\n",
    "noiseFloat.max=5\n",
    "\n",
    "shiftInt = widgets.IntSlider()\n",
    "shiftInt.min=-5\n",
    "shiftInt.max=5\n",
    "\n",
    "shiftFloat = widgets.FloatSlider()\n",
    "shiftFloat.min=-5\n",
    "shiftFloat.max=5\n",
    "\n",
    "display(noiseInt)\n",
    "display(noiseFloat)\n",
    "display(shiftInt)\n",
    "display(shiftFloat)"
   ]
  },
  {
   "cell_type": "code",
   "execution_count": 36,
   "id": "56dcff4e",
   "metadata": {},
   "outputs": [],
   "source": [
    "selectFeaturesButtom=v.Btn(color='primary', children=['Select Features'])\n"
   ]
  },
  {
   "cell_type": "code",
   "execution_count": 37,
   "id": "a97506b6",
   "metadata": {},
   "outputs": [],
   "source": [
    "selected=[]\n",
    "tableEvasion=v.DataTable(headers=[],class_=\"elevation-1\",v_model=\"selected\",item_key=\"Feature\",single_select=False,show_select=True,items=[])"
   ]
  },
  {
   "cell_type": "markdown",
   "id": "8820dfa9",
   "metadata": {},
   "source": [
    "### Functions"
   ]
  },
  {
   "cell_type": "code",
   "execution_count": 38,
   "id": "01e37e1d",
   "metadata": {},
   "outputs": [],
   "source": [
    "def update_evasionStrategy(change):\n",
    "    print(change)\n",
    "    if(change[\"new\"]==\"Random Noise\"):\n",
    "        session.chooseStrategy(\"Random Noise\")\n",
    "    elif(change[\"new\"]==\"General Search\"):\n",
    "        session.chooseStrategy(\"search\")\n",
    "        session.chooseTransformation(\"genAlg\")\n",
    "        config=session.transformation.ga_config()\n",
    "        config[\"numtuples\"]=4\n",
    "        config[\"noise\"]=1\n",
    "        config[\"features\"]=[1,1,1,1]\n",
    "        config[\"predictor\"]=session.prediction_proba\n",
    "        config[\"oriVariant\"]=1\n",
    "        config[\"weights\"]=(-1.0,1.0,1.0)\n",
    "        config[\"numberVariants\"]=1\n",
    "        config[\"shift\"]=0\n",
    "        config[\"numgen\"]=50\n",
    "        config[\"population_size\"]=100\n",
    "        config[\"lambda_sel\"]=50\n",
    "        config[\"mu_sel\"]=50\n",
    "        config[\"class\"]=1\n",
    "        config[\"mutation_rate\"]=0.1\n",
    "        configuration[\"noise\"]=1.0\n",
    "        configuration[\"shift\"]=0.0        \n",
    "        session.setupTransformation(config)\n",
    "        containerEvasion.children=[evasion_strategy,evasion_select]\n",
    "    else:\n",
    "        print(\"Selection not compatible\")\n",
    "    y = map(lambda v : {\"Feature\":v} ,session.data.getColumns())\n",
    "    tableEvasion.headers=[ {'text':\"Feature\",'value':\"Feature\"}]\n",
    "    tableEvasion.items=list(y)\n",
    "#    print(\"Selection done\")\n",
    "\n",
    "evasion_select.observe(update_evasionStrategy, 'v_model')\n"
   ]
  },
  {
   "cell_type": "code",
   "execution_count": 39,
   "id": "3011f046",
   "metadata": {},
   "outputs": [],
   "source": [
    "def update_evasion(change):\n",
    "    print(change)\n",
    "    if(change[\"new\"]==\"Discrete\"):\n",
    "        session.chooseTransformation(\"discreet\")\n",
    "        configuration[\"noise\"]=1\n",
    "        configuration[\"shift\"]=0\n",
    "        containerEvasion.children=[evasion_strategy,evasion_select,evasionVarPerInputString,numberVariants,\n",
    "                                      evasionNoiseString,noiseInt,evasionShiftString,shiftInt]\n",
    "    elif(change[\"new\"]==\"Continuous\"):\n",
    "        session.chooseTransformation(\"continous\")\n",
    "        configuration[\"noise\"]=1.0\n",
    "        configuration[\"shift\"]=0.0        \n",
    "        containerEvasion.children=[evasion_strategy,evasion_select,evasionVarPerInputString,numberVariants,\n",
    "                                      evasionNoiseString,noiseFloat,evasionShiftString,shiftFloat]\n",
    "    else:\n",
    "        print(\"Selection not compatible\")\n",
    "    y = map(lambda v : {\"Feature\":v} ,session.data.getColumns())\n",
    "    tableEvasion.headers=[ {'text':\"Feature\",'value':\"Feature\"}]\n",
    "    tableEvasion.items=list(y)\n",
    "#    print(\"Selection done\")\n",
    "\n",
    "evasion_select.observe(update_evasion, 'v_model')\n"
   ]
  },
  {
   "cell_type": "code",
   "execution_count": 40,
   "id": "3e835416",
   "metadata": {},
   "outputs": [],
   "source": [
    "def update_configurationVariants(change):\n",
    "    configuration[\"numberVariants\"]=numberVariants.value\n",
    "def update_configurationNoiseInt(change):\n",
    "    configuration[\"noise\"]=noiseInt.value\n",
    "def update_configurationNoiseFloat(change):\n",
    "    configuration[\"noise\"]=noiseFloat.value\n",
    "def update_configurationShiftInt(change):\n",
    "    configuration[\"shift\"]=shiftInt.value\n",
    "def update_configurationShiftFloat(change):\n",
    "    configuration[\"shift\"]=shiftFloat.value\n",
    "    \n",
    "numberVariants.observe(update_configurationVariants, 'value')\n",
    "noiseInt.observe(update_configurationNoiseInt, 'value')\n",
    "noiseFloat.observe(update_configurationNoiseFloat, 'value')\n",
    "shiftInt.observe(update_configurationShiftInt, 'value')\n",
    "shiftFloat.observe(update_configurationShiftFloat, 'value')"
   ]
  },
  {
   "cell_type": "code",
   "execution_count": 41,
   "id": "cdca7774",
   "metadata": {},
   "outputs": [],
   "source": [
    "def selectFeatures(widget, event, data):\n",
    "    print(tableEvasion.v_model)\n",
    "    allColumns=session.data.getColumns()\n",
    "    features=np.repeat(0,len(allColumns))\n",
    "    print(features)\n",
    "    for elem in tableEvasion.v_model:\n",
    "        features[allColumns.tolist().index(elem['Feature'])]=1\n",
    "    print(features) \n",
    "    configuration[\"features\"]=features\n",
    "selectFeaturesButtom.on_event('click', selectFeatures)"
   ]
  },
  {
   "cell_type": "markdown",
   "id": "dbd1c88c",
   "metadata": {},
   "source": [
    "### Final Layout"
   ]
  },
  {
   "cell_type": "code",
   "execution_count": 42,
   "id": "22f1847a",
   "metadata": {
    "scrolled": true
   },
   "outputs": [
    {
     "data": {
      "application/vnd.jupyter.widget-view+json": {
       "model_id": "d97c0a121d3b4372b0f64656338c089e",
       "version_major": 2,
       "version_minor": 0
      },
      "text/plain": [
       "Tabs(children=[Tab(children=['Evasion']), Tab(children=['Choose Features']), TabItem(children=[Layout(align_ce…"
      ]
     },
     "metadata": {},
     "output_type": "display_data"
    }
   ],
   "source": [
    "session.chooseStrategy(\"Random Noise\")\n",
    "containerEvasion=v.Container(children=[evasion_strategy,evasion_select,evasionVarPerInputString,numberVariants])\n",
    "page3=v.Tabs(children=[\n",
    "    v.Tab(children=['Evasion']),\n",
    "    v.Tab(children=['Choose Features']),\n",
    "    v.TabItem(children=[\n",
    "        v.Layout(row=True, wrap=True, align_center=True, children=[\n",
    "            v.Flex(xs12=True, lg6=True, xl4=True, pa_4=True,  children=[\n",
    "                containerEvasion\n",
    "            ]),\n",
    "        ])\n",
    "    ]),\n",
    "    v.TabItem(children=[\n",
    "        v.Container(children=[selectFeaturesButtom,tableEvasion])\n",
    "    ])\n",
    "])\n",
    "page3"
   ]
  },
  {
   "cell_type": "code",
   "execution_count": 43,
   "id": "40feb6be",
   "metadata": {},
   "outputs": [],
   "source": [
    "#print(tableEvasion.v_model)\n",
    "#allColumns=session.data.getColumns()\n",
    "#features=np.repeat(0,len(allColumns))\n",
    "#print(features)\n",
    "#for elem in tableEvasion.v_model:\n",
    "#    features[allColumns.tolist().index(elem['Feature'])]=1\n",
    "#print(features)    \n",
    "#print(configuration)"
   ]
  },
  {
   "cell_type": "markdown",
   "id": "30084602",
   "metadata": {},
   "source": [
    "## Model Fourth Page: Run\n",
    "\n",
    "This bit contains the fourth page that will run the code and show the outcome"
   ]
  },
  {
   "cell_type": "code",
   "execution_count": 44,
   "id": "efe77362",
   "metadata": {},
   "outputs": [],
   "source": [
    "evasionCases={}"
   ]
  },
  {
   "cell_type": "markdown",
   "id": "743df23c",
   "metadata": {},
   "source": [
    "### Strings"
   ]
  },
  {
   "cell_type": "code",
   "execution_count": 45,
   "id": "94fc0f01",
   "metadata": {},
   "outputs": [],
   "source": [
    "variantsCreated= \"Variants Done\""
   ]
  },
  {
   "cell_type": "markdown",
   "id": "003f0dd3",
   "metadata": {},
   "source": [
    "### Buttons"
   ]
  },
  {
   "cell_type": "code",
   "execution_count": 46,
   "id": "0e0e4835",
   "metadata": {},
   "outputs": [],
   "source": [
    "#runButtom\n",
    "runButtom=v.Btn(color='primary', children=['Create Variants'])\n"
   ]
  },
  {
   "cell_type": "code",
   "execution_count": 47,
   "id": "4b1c1438",
   "metadata": {},
   "outputs": [],
   "source": [
    "tableVariants=v.DataTable(headers=[],class_=\"elevation-1\",items=[])\n"
   ]
  },
  {
   "cell_type": "code",
   "execution_count": 48,
   "id": "6e824b6f",
   "metadata": {},
   "outputs": [],
   "source": [
    "variantsCreatedBox=widgets.Text(\"\")"
   ]
  },
  {
   "cell_type": "markdown",
   "id": "5051dc79",
   "metadata": {},
   "source": [
    "### Functions"
   ]
  },
  {
   "cell_type": "code",
   "execution_count": 49,
   "id": "f6322828",
   "metadata": {},
   "outputs": [],
   "source": [
    "#Pending: Allow more than one variant per feature (missing in the target ori and prediction)\n",
    "\n",
    "def runCode(widget, event, data):\n",
    "    newCase={}\n",
    "    session.setupTransformation(configuration)\n",
    "    session.data.transform(session.transformation)\n",
    "    predictions=session.prediction(np.asarray(session.data.getVariants()))\n",
    "    variants = session.data.getVariants()\n",
    "    targetName = session.data.targetName\n",
    "    targetori = session.data.target\n",
    "    variantsCreatedBox.value=variantsCreated+\"\\n\"+repr(variants)\n",
    "    variantsDF=pandas.DataFrame(variants)\n",
    "    variantsDF.set_axis(axis=1,labels=session.data.getColumns())\n",
    "    variantsDF[\"Original\"]=targetori\n",
    "    variantsDF[\"Predicted\"]=session.prediction(session.data.data)\n",
    "    variantsDF[\"Manipulation\"]=predictions\n",
    "    #success=(variantsDF[\"Original\"]==variantsDF[\"Predicted\"]) == (variantsDF[\"Predicted\"]!=variantsDF[\"Manipulation\"])\n",
    "    success=(variantsDF[\"Predicted\"]!=variantsDF[\"Manipulation\"])\n",
    "    newCase[\"EvaAccuracy\"]=sum(variantsDF[\"Original\"]==variantsDF[\"Manipulation\"])*100/len(variantsDF[\"Original\"])\n",
    "#    session.data.evasionAccuracy=sum(variantsDF[\"Original\"]==variantsDF[\"Manipulation\"])\n",
    "#    session.data.originalAccuracy=sum(variantsDF[\"Original\"]==variantsDF[\"Predicted\"])\n",
    "    newCase[\"OriAccuracy\"]=sum(variantsDF[\"Original\"]==variantsDF[\"Predicted\"])*100/len(variantsDF[\"Original\"])\n",
    "    variantsDF[\"Success\"]=success\n",
    "    #print(session.data.getColumns())\n",
    "    #print(variantsDF)\n",
    "    headers=[{'text':'Original','value':'Original'},{'text':'Predicted','value':'Predicted'},\n",
    "             {'text':'Manipulation','value':'Manipulation'},{'text':'Success','value':'Success'}]\n",
    "    y = list(map(lambda v : {'text':v,'value':v} ,session.data.getColumns()))\n",
    "    tableVariants.headers=y+headers\n",
    "    print(y)\n",
    "    print(headers)\n",
    "    print(tableVariants.headers)\n",
    "    tableVariants.items=variantsDF.to_dict(\"records\")\n",
    "    print(tableVariants.items)\n",
    "    #\n",
    "    variantsClasses=np.unique(variantsDF[\"Manipulation\"])\n",
    "    predictionClasses=np.unique(variantsDF[\"Predicted\"])\n",
    "    originalClasses=np.unique(variantsDF[\"Original\"])\n",
    "    matrixHeapVar=pandas.DataFrame(np.zeros((len(predictionClasses),len(variantsClasses))), columns=variantsClasses)\n",
    "    for i in range(0,len(variantsDF[\"Manipulation\"])):\n",
    "        if (variantsDF[\"Manipulation\"][i]!=variantsDF[\"Predicted\"][i]):\n",
    "            matrixHeapVar[variantsDF[\"Predicted\"][i]][variantsDF[\"Manipulation\"][i]]=matrixHeapVar[variantsDF[\"Predicted\"][i]][variantsDF[\"Manipulation\"][i]]+1\n",
    "    matrixHeapOri=pandas.DataFrame(np.zeros((len(predictionClasses),len(variantsClasses))), columns=variantsClasses)\n",
    "    for i in range(0,len(variantsDF[\"Manipulation\"])):\n",
    "        if (variantsDF[\"Original\"][i]!=variantsDF[\"Predicted\"][i]):\n",
    "            matrixHeapOri[variantsDF[\"Predicted\"][i]][variantsDF[\"Original\"][i]]=matrixHeapOri[variantsDF[\"Predicted\"][i]][variantsDF[\"Original\"][i]]+1\n",
    "    newCase[\"EvaHeap\"]= matrixHeapVar\n",
    "    newCase[\"OriHeap\"]= matrixHeapOri   \n",
    "    newCase[\"EvasionStrategy\"]=evasion_strategy.v_model\n",
    "    newCase[\"EvasionType\"]=evasion_select.v_model\n",
    "    newCase[\"Noise\"]=configuration[\"noise\"]\n",
    "    newCase[\"Shift\"]=configuration[\"shift\"]\n",
    "    evasionCases[\"Evasion\"+str(len(evasionCases)+1)]=newCase\n",
    "    evReport_select.items=list(evasionCases.keys())\n",
    "    #print(variants)\n",
    "    #print(tableVariants.items)\n",
    "runButtom.on_event('click', runCode)\n"
   ]
  },
  {
   "cell_type": "markdown",
   "id": "68056910",
   "metadata": {},
   "source": [
    "### Final Layout"
   ]
  },
  {
   "cell_type": "code",
   "execution_count": 50,
   "id": "ecda6cd6",
   "metadata": {},
   "outputs": [
    {
     "data": {
      "application/vnd.jupyter.widget-view+json": {
       "model_id": "38d0b84556c346d2b2d4c6b614c1b838",
       "version_major": 2,
       "version_minor": 0
      },
      "text/plain": [
       "Tabs(children=[Tab(children=['Run']), TabItem(children=[Layout(align_center=True, children=[Flex(children=[Con…"
      ]
     },
     "metadata": {},
     "output_type": "display_data"
    }
   ],
   "source": [
    "page4=v.Tabs(children=[\n",
    "    v.Tab(children=['Run']),\n",
    "    #v.Tab(children=['Monitor']),\n",
    "    v.TabItem(children=[\n",
    "        v.Layout(row=True, wrap=True, align_center=True, children=[\n",
    "            v.Flex(xs12=True, lg6=True, xl4=True, pa_4=True,  children=[\n",
    "                v.Container(children=[runButtom,tableVariants])\n",
    "            ]),\n",
    "        ])\n",
    "   # ]),\n",
    "   # v.TabItem(children=[\n",
    "   #     v.Container(children=['Lorum ipsum'])\n",
    "    ])\n",
    "])\n",
    "page4\n"
   ]
  },
  {
   "cell_type": "markdown",
   "id": "fe8c5fc7",
   "metadata": {},
   "source": [
    "## Model Fifth Page: Report\n",
    "\n",
    "This bit contains the fourth page that will show the final reports"
   ]
  },
  {
   "cell_type": "markdown",
   "id": "b8f037de",
   "metadata": {},
   "source": [
    "### Widgets"
   ]
  },
  {
   "cell_type": "code",
   "execution_count": 51,
   "id": "ec6a1d1c",
   "metadata": {},
   "outputs": [],
   "source": [
    "output=\"*** caught segfault ***\\n \\\n",
    "address 0x7ffd88648b38, cause 'memory not mapped'\\n \\\n",
    "Traceback:\\n \\\n",
    " 1: readRDS(args[1])\\n \\\n",
    "An irrecoverable exception occurred. R is aborting now ...\"\n",
    "exploit=\"   Description: Access violation during branch instruction\\n \\\n",
    "   Short description: BranchAv (4/22)\\n \\\n",
    "   Explanation: The target crashed on a branch instruction, which may indicate that the control flow is tainted.\" \n",
    "line=\"Unkown\"\n",
    "fileC=\"Unkown\"\n",
    "language=\"R\"\n",
    "version=\"4.1.0\"\n",
    "evasionCase1={'Output':output,'Exploit':exploit,'Line':line,'Language':language,'Version':version,'File':fileC}\n",
    "\n",
    "output=\"All good\"\n",
    "exploit=\"Crashed on a branch instruction, which may indicate that the control flow is tainted.\" \n",
    "line=\"220\"\n",
    "fileC=\"nnet.c\"\n",
    "language=\"R\"\n",
    "version=\"4.1.0\"\n",
    "evasionCase2={'Output':output,'Exploit':exploit,'Line':line,'Language':language,'Version':version,'File':fileC}\n",
    "#evasions={\"Bug1\":evasionCase1,\"Bug2\":evasionCase2}"
   ]
  },
  {
   "cell_type": "code",
   "execution_count": 52,
   "id": "c97351ee",
   "metadata": {
    "scrolled": false
   },
   "outputs": [
    {
     "data": {
      "application/vnd.jupyter.widget-view+json": {
       "model_id": "35a01e1ba9ff48cb9cd6ba903a403907",
       "version_major": 2,
       "version_minor": 0
      },
      "text/plain": [
       "Select(items=['None'], label='Select Report From Session', v_model='None')"
      ]
     },
     "metadata": {},
     "output_type": "display_data"
    }
   ],
   "source": [
    "evReport_select = v.Select(\n",
    "    v_model=\"None\",\n",
    "    label='Select Report From Session',\n",
    "    items=['None'])\n",
    "evReport_select"
   ]
  },
  {
   "cell_type": "code",
   "execution_count": 53,
   "id": "8f13bd25",
   "metadata": {},
   "outputs": [],
   "source": [
    "figHeapMapOri = plt.figure(padding_y=0.0)\n",
    "matrixHeap=pandas.DataFrame(np.zeros((3,3)), columns=[\"a\",\"b\",\"c\"])\n",
    "figHeapMapOri.grid_map = plt.gridheatmap(matrixHeap,opacity=0.95, stroke=\"white\")\n",
    "figHeapMapOri.grid_map.display_format = \".2f\"\n",
    "figHeapMapOri.grid_map.font_style = {\"font-size\": \"24px\",\"axes-size\": \"24px\", \"fill\": \"white\", \"font-weight\": \"bold\"}\n",
    "figHeapMapVar = plt.figure(padding_y=0.0)\n",
    "matrixHeap=pandas.DataFrame(np.zeros((3,3)), columns=[\"a\",\"b\",\"c\"])\n",
    "figHeapMapVar.grid_map = plt.gridheatmap(matrixHeap,opacity=0.95, stroke=\"white\")\n",
    "figHeapMapVar.grid_map.display_format = \".2f\"\n",
    "figHeapMapVar.grid_map.font_style = {\"font-size\": \"24px\",\"axes-size\": \"24px\", \"fill\": \"white\", \"font-weight\": \"bold\"}\n",
    "    \n",
    "exampleEvasion=v.Container(children=[])"
   ]
  },
  {
   "cell_type": "markdown",
   "id": "49ae1afc",
   "metadata": {},
   "source": [
    "### Strings"
   ]
  },
  {
   "cell_type": "code",
   "execution_count": 54,
   "id": "7601c7cc",
   "metadata": {},
   "outputs": [],
   "source": [
    "evasionTitleString=\"Evasion Report\"\n",
    "evasionStrategyString=\"Strategy: \"\n",
    "evasionTypeString=\"Evasion: \"\n",
    "evasionNoiseString=\"Noise: \"\n",
    "evasionShiftString=\"Shift: \"\n",
    "evasionAccuracyOriString=\"Original Accuracy: \"\n",
    "evasionAccuracyVarString=\"Variants Accuracy: \"\n",
    "evasionHeapMapOriString=\"Original Misclassification HeatMap: \"\n",
    "evasionHeapMapVarString=\"Variants Misclassification HeatMap: \"\n",
    "evasionFileString=\"Robustness: \"\n",
    "evasionOutputString=\"Transition Matrix: \""
   ]
  },
  {
   "cell_type": "markdown",
   "id": "716924ad",
   "metadata": {},
   "source": [
    "### HTML Functions"
   ]
  },
  {
   "cell_type": "code",
   "execution_count": 55,
   "id": "4a823ae4",
   "metadata": {},
   "outputs": [],
   "source": [
    "def createEvasionReport(evasionCase):\n",
    "    bugsTitle=v.Html(\n",
    "        tag='h1',\n",
    "        attributes={'title': 'a title'},\n",
    "        children=[evasionTitleString],\n",
    "        style_=\"text-align:center\"\n",
    "        )\n",
    "    strategy=v.Html(\n",
    "        tag='h3',\n",
    "        attributes={'paragraph': 'p1'},\n",
    "        children=[evasionStrategyString,str(evasionCase[\"EvasionStrategy\"])]\n",
    "        )\n",
    "    evasionType=v.Html(\n",
    "        tag='h3',\n",
    "        attributes={'paragraph': 'p1'},\n",
    "        children=[evasionTypeString,str(evasionCase[\"EvasionType\"])]\n",
    "        )\n",
    "    noise=v.Html(\n",
    "        tag='h3',\n",
    "        attributes={'paragraph': 'p1'},\n",
    "        children=[evasionNoiseString,str(evasionCase[\"Noise\"])]\n",
    "        )\n",
    "    shift=v.Html(\n",
    "        tag='h3',\n",
    "        attributes={'paragraph': 'p1'},\n",
    "        children=[evasionShiftString,str(evasionCase[\"Shift\"])]\n",
    "        )\n",
    "\n",
    "    oriAccuracy=v.Html(\n",
    "        tag='h3',\n",
    "        attributes={'paragraph': 'p1'},\n",
    "        children=[evasionAccuracyOriString,str(evasionCase[\"OriAccuracy\"])]\n",
    "        )\n",
    "    evasionAccuracy=v.Html(\n",
    "        tag='h3',\n",
    "        attributes={'paragraph': 'p2'},\n",
    "        children=[evasionAccuracyVarString,str(evasionCase[\"EvaAccuracy\"])]\n",
    "        )\n",
    "    evasionAccOriginal=v.Html(\n",
    "        tag='h3',\n",
    "        attributes={'paragraph': 'p3'},\n",
    "        children=[evasionHeapMapOriString]\n",
    "        )\n",
    "    evasionAccVariant=v.Html(\n",
    "        tag='h3',\n",
    "        attributes={'paragraph': 'p4'},\n",
    "        children=[evasionHeapMapVarString]\n",
    "        )\n",
    "#    bugsOutput=v.Html(\n",
    "#        tag='p',\n",
    "#        attributes={'paragraph': 'p5'},\n",
    "#        children=[bugsOutputString,evasionCase[\"Output\"]]\n",
    "#        )\n",
    "#    bugsExploit=v.Html(\n",
    "#        tag='p',\n",
    "#        attributes={'paragraph': 'p6'},\n",
    "#        children=[bugsExploitString,evasionCase[\"Exploit\"]]\n",
    "#        )\n",
    "    #return [bugsTitle,bugsLanguage,bugsVersion,bugsFile,bugsLine,bugsOutput,bugsExploit,drawHeapMap()]\n",
    "    return [bugsTitle,generalSpace,strategy,evasionType,noise,shift,oriAccuracy,evasionAccuracy,\n",
    "            evasionAccOriginal,figHeapMapOri,evasionAccVariant,figHeapMapVar]\n"
   ]
  },
  {
   "cell_type": "markdown",
   "id": "a0a0fcd3",
   "metadata": {},
   "source": [
    "### Buttons"
   ]
  },
  {
   "cell_type": "code",
   "execution_count": null,
   "id": "8aeeb886",
   "metadata": {},
   "outputs": [],
   "source": []
  },
  {
   "cell_type": "markdown",
   "id": "912ce4cd",
   "metadata": {},
   "source": [
    "### Functions"
   ]
  },
  {
   "cell_type": "code",
   "execution_count": 56,
   "id": "d2ded207",
   "metadata": {},
   "outputs": [],
   "source": [
    "def drawHeapMap(evasionCase):\n",
    "    figHeapMapVar.grid_map.color = evasionCase[\"EvaHeap\"]\n",
    "    figHeapMapOri.grid_map.color = evasionCase[\"OriHeap\"]"
   ]
  },
  {
   "cell_type": "code",
   "execution_count": 57,
   "id": "16ff0939",
   "metadata": {},
   "outputs": [],
   "source": [
    "def update_evasionRep(change):\n",
    "    #print(change)\n",
    "    #if(change[\"new\"]==\"Discrete\"):\n",
    "    #    session.chooseTransformation(\"discreet\")\n",
    "    #    configuration[\"noise\"]=1\n",
    "    #else:\n",
    "    #    print(\"Selection not compatible\")\n",
    "    #y = map(lambda v : {\"Feature\":v} ,session.data.getColumns())\n",
    "    #tableEvasion.headers=[ {'text':\"Feature\",'value':\"Feature\"}]\n",
    "    #tableEvasion.items=list(y)\n",
    "    drawHeapMap(evasionCases[change[\"new\"]])\n",
    "    exampleEvasion.children=createEvasionReport(evasionCases[change[\"new\"]])\n",
    "    print(\"Selection done\")\n",
    "\n",
    "evReport_select.observe(update_evasionRep, 'v_model')\n"
   ]
  },
  {
   "cell_type": "markdown",
   "id": "4c14c513",
   "metadata": {},
   "source": [
    "### Final Layout"
   ]
  },
  {
   "cell_type": "code",
   "execution_count": 58,
   "id": "21783c66",
   "metadata": {},
   "outputs": [
    {
     "data": {
      "application/vnd.jupyter.widget-view+json": {
       "model_id": "d6c6fc25034148aabf5049bfdfb28584",
       "version_major": 2,
       "version_minor": 0
      },
      "text/plain": [
       "Tabs(children=[Tab(children=['Selection']), Tab(children=['Current Report']), TabItem(children=[Layout(align_c…"
      ]
     },
     "metadata": {},
     "output_type": "display_data"
    }
   ],
   "source": [
    "page5=v.Tabs(children=[\n",
    "    v.Tab(children=['Selection']),\n",
    "    v.Tab(children=['Current Report']),\n",
    "    v.TabItem(children=[\n",
    "        v.Layout(row=True, wrap=True, align_center=True, children=[\n",
    "            v.Flex(xs12=True, lg6=True, xl4=True, pa_4=True,  children=[\n",
    "                v.Container(children=[evReport_select])\n",
    "            ]),\n",
    "        ])\n",
    "      ]),\n",
    "    v.TabItem(children=[\n",
    "        v.Layout(row=True, wrap=True, align_center=True, children=[\n",
    "            v.Flex(xs12=True, lg6=True, xl4=True, pa_4=True,  children=[\n",
    "                exampleEvasion\n",
    "            ]),\n",
    "        ])\n",
    "    ])\n",
    "])\n",
    "page5"
   ]
  },
  {
   "cell_type": "markdown",
   "id": "377d31b9",
   "metadata": {},
   "source": [
    "## Code Help Page\n",
    "\n",
    "This bit contains the code evaluation help."
   ]
  },
  {
   "cell_type": "code",
   "execution_count": 59,
   "id": "6f1cd7d0",
   "metadata": {},
   "outputs": [],
   "source": [
    "testinghelpTitle=\"Testing your Code\"\n",
    "\n",
    "testinghelpString1=\"To test your code, you need to add a template calling to the code, please see our \\\n",
    "available tamplates to have a look about the proper format. Once the template is uploaded, you can run \\\n",
    "the testing of your code. You can also monitor the progress in the monitoring section.\"\n",
    "\n",
    "reviewhelpTitle=\"Reviewing your Code\"\n",
    "\n",
    "reviewhelpString1=\"If you want to know whether your code is sensitive to potential vulnerabilities, please \\\n",
    "use the code review section. This will check the main functions that you are using and compare them with our \\\n",
    "database of ML bugs, vulnerabilities and exploits and it will allow you to identify blindspots in your code.\"\n",
    "\n"
   ]
  },
  {
   "cell_type": "code",
   "execution_count": 60,
   "id": "91db8995",
   "metadata": {},
   "outputs": [],
   "source": [
    "\n",
    "datahelpTitle=v.Html(\n",
    "        tag='h1',\n",
    "        attributes={'title': 'a title'},\n",
    "        children=[testinghelpTitle],\n",
    "        style_=\"text-align:center\"\n",
    "    )\n",
    "\n",
    "datahelpParagh1=v.Html(\n",
    "        tag='p',\n",
    "        attributes={'paragraph': 'p1'},\n",
    "        children=[testinghelpString1]\n",
    "    )\n",
    "#ModelHelp Menu\n",
    "\n",
    "modelhelpTitle=v.Html(\n",
    "        tag='h1',\n",
    "        attributes={'title': 'a title'},\n",
    "        children=[reviewhelpTitle],\n",
    "        style_=\"text-align:center\"\n",
    "    )\n",
    "\n",
    "modelhelpParagh1=v.Html(\n",
    "        tag='p',\n",
    "        attributes={'paragraph': 'p1'},\n",
    "        children=[reviewhelpString1]\n",
    "    )\n"
   ]
  },
  {
   "cell_type": "code",
   "execution_count": 61,
   "id": "297721e6",
   "metadata": {},
   "outputs": [
    {
     "data": {
      "application/vnd.jupyter.widget-view+json": {
       "model_id": "eb0bb36c38124e4dba7208fbc845f4b2",
       "version_major": 2,
       "version_minor": 0
      },
      "text/plain": [
       "Tabs(children=[Tab(children=['Code Testing']), Tab(children=['Code Review']), TabItem(children=[Layout(align_c…"
      ]
     },
     "metadata": {},
     "output_type": "display_data"
    }
   ],
   "source": [
    "pageHelpCode=v.Tabs(children=[\n",
    "    v.Tab(children=['Code Testing']),\n",
    "    v.Tab(children=['Code Review']),\n",
    "    v.TabItem(children=[\n",
    "        v.Layout(row=True, wrap=True, align_center=True, children=[\n",
    "            v.Flex(xs12=True, lg6=True, xl4=True,  pa_4=True, children=[\n",
    "                v.Container(children=[datahelpTitle,generalSpace,datahelpParagh1])\n",
    "            ]),\n",
    "        ])\n",
    "      ]),\n",
    "    v.TabItem(children=[\n",
    "         v.Layout(row=True, wrap=True, align_center=True, children=[\n",
    "            v.Flex(xs12=True, lg6=True, xl4=True, pa_4=True,  children=[\n",
    "               v.Container(children=[modelhelpTitle,generalSpace,modelhelpParagh1])\n",
    "            ]),\n",
    "        ])\n",
    "    ])\n",
    "])\n",
    "pageHelpCode"
   ]
  },
  {
   "cell_type": "markdown",
   "id": "bed34fb3",
   "metadata": {},
   "source": [
    "## Code First Page: Code Review\n",
    "\n",
    "This bit contains the code review part, it takes a file and check whether the function are in the database of vulnerabilities."
   ]
  },
  {
   "cell_type": "markdown",
   "id": "046f509a",
   "metadata": {},
   "source": [
    "### Data Loading"
   ]
  },
  {
   "cell_type": "code",
   "execution_count": 62,
   "id": "29767169",
   "metadata": {},
   "outputs": [
    {
     "name": "stdout",
     "output_type": "stream",
     "text": [
      "Index(['Library', 'Function', 'Method', 'Template (ID)', 'Language (R/Python)',\n",
      "       'Language Version', 'Execution (ID)', 'Type', 'Trace (ID)',\n",
      "       'Exploitable (Y/N)', 'Known', 'Error Type', 'Message', 'Input',\n",
      "       'Crash File', 'Exploit Type', 'File', 'Line'],\n",
      "      dtype='object')\n"
     ]
    }
   ],
   "source": [
    "temporalddbb=pandas.read_csv(\"tablaPython.csv\")\n",
    "bugDDBB={}\n",
    "#print(temporalddbb)\n",
    "print(temporalddbb.keys())"
   ]
  },
  {
   "cell_type": "code",
   "execution_count": 63,
   "id": "c5cf8710",
   "metadata": {},
   "outputs": [],
   "source": [
    "output=\"*** caught segfault ***\\n \\\n",
    "address 0x7ffd88648b38, cause 'memory not mapped'\\n \\\n",
    "Traceback:\\n \\\n",
    " 1: readRDS(args[1])\\n \\\n",
    "An irrecoverable exception occurred. R is aborting now ...\"\n",
    "exploit=\"   Description: Access violation during branch instruction\\n \\\n",
    "   Short description: BranchAv (4/22)\\n \\\n",
    "   Explanation: The target crashed on a branch instruction, which may indicate that the control flow is tainted.\" \n",
    "line=\"Unkown\"\n",
    "fileC=\"Unkown\"\n",
    "language=\"R\"\n",
    "version=\"4.1.0\"\n",
    "bugCase1={'Output':output,'Exploit':exploit,'Line':line,'Language':language,'Version':version,'File':fileC}\n",
    "\n",
    "output=\"All good\"\n",
    "exploit=\"Crashed on a branch instruction, which may indicate that the control flow is tainted.\" \n",
    "line=\"220\"\n",
    "fileC=\"nnet.c\"\n",
    "language=\"R\"\n",
    "version=\"4.1.0\"\n",
    "bugCase2={'Output':output,'Exploit':exploit,'Line':line,'Language':language,'Version':version,'File':fileC}\n",
    "bugs={\"Bug1\":bugCase1,\"Bug2\":bugCase2}"
   ]
  },
  {
   "cell_type": "code",
   "execution_count": null,
   "id": "dc0a9dc8",
   "metadata": {},
   "outputs": [],
   "source": []
  },
  {
   "cell_type": "markdown",
   "id": "15802c7d",
   "metadata": {},
   "source": [
    "### Widgets"
   ]
  },
  {
   "cell_type": "code",
   "execution_count": 64,
   "id": "2180657a",
   "metadata": {},
   "outputs": [
    {
     "data": {
      "application/vnd.jupyter.widget-view+json": {
       "model_id": "fdb69727ad4a4e388c0dc614e31dd660",
       "version_major": 2,
       "version_minor": 0
      },
      "text/plain": [
       "FileUpload(value={}, description='Upload')"
      ]
     },
     "metadata": {},
     "output_type": "display_data"
    }
   ],
   "source": [
    "uploaderCode = widgets.FileUpload(\n",
    "    accept='',  # Accepted file extension e.g. '.txt', '.pdf', 'image/*', 'image/*,.pdf'\n",
    "    multiple=False  # True to accept multiple files upload else False\n",
    ")\n",
    "display(uploaderCode)"
   ]
  },
  {
   "cell_type": "code",
   "execution_count": 65,
   "id": "983d400f",
   "metadata": {},
   "outputs": [
    {
     "data": {
      "application/vnd.jupyter.widget-view+json": {
       "model_id": "db1d5d7760f64fe8bf8553f2a5998de1",
       "version_major": 2,
       "version_minor": 0
      },
      "text/plain": [
       "DataTable(class_='elevation-1', headers=[], item_key='function', items=[], show_select=True, single_select=Fal…"
      ]
     },
     "metadata": {},
     "output_type": "display_data"
    }
   ],
   "source": [
    "tableImports=v.DataTable(headers=[],class_=\"elevation-1\",v_model=[],item_key=\"function\",single_select=False,show_select=True,items=[])\n",
    "display(tableImports)"
   ]
  },
  {
   "cell_type": "markdown",
   "id": "1f7c5efc",
   "metadata": {},
   "source": [
    "### Strings"
   ]
  },
  {
   "cell_type": "code",
   "execution_count": 66,
   "id": "2a8be856",
   "metadata": {},
   "outputs": [],
   "source": [
    "codeReviewCallsBox=widgets.Text(\"\")\n",
    "codeReviewImportsBox=widgets.Text(\"\")"
   ]
  },
  {
   "cell_type": "markdown",
   "id": "e90a02c6",
   "metadata": {},
   "source": [
    "### Buttons"
   ]
  },
  {
   "cell_type": "code",
   "execution_count": 67,
   "id": "0633a6fd",
   "metadata": {},
   "outputs": [
    {
     "data": {
      "application/vnd.jupyter.widget-view+json": {
       "model_id": "4363b800489b4a40bed268af0393ee15",
       "version_major": 2,
       "version_minor": 0
      },
      "text/plain": [
       "Btn(children=['Review Code'], color='primary', disabled=True)"
      ]
     },
     "metadata": {},
     "output_type": "display_data"
    }
   ],
   "source": [
    "codeReviewButtom=v.Btn(color='primary', children=['Review Code'])\n",
    "codeReviewButtom.disabled=True\n",
    "display(codeReviewButtom)"
   ]
  },
  {
   "cell_type": "code",
   "execution_count": 68,
   "id": "4f9ebc9e",
   "metadata": {},
   "outputs": [
    {
     "data": {
      "application/vnd.jupyter.widget-view+json": {
       "model_id": "f3abea9e656d4414bc43fc6652e85f75",
       "version_major": 2,
       "version_minor": 0
      },
      "text/plain": [
       "Btn(children=['Load Reports'], color='primary', disabled=True)"
      ]
     },
     "metadata": {},
     "output_type": "display_data"
    }
   ],
   "source": [
    "loadReportsButtom=v.Btn(color='primary', children=['Load Reports'])\n",
    "loadReportsButtom.disabled=True\n",
    "display(loadReportsButtom)"
   ]
  },
  {
   "cell_type": "markdown",
   "id": "b85b6ae5",
   "metadata": {},
   "source": [
    "### Functions"
   ]
  },
  {
   "cell_type": "code",
   "execution_count": 69,
   "id": "8fbaa5ea",
   "metadata": {},
   "outputs": [],
   "source": [
    "def uploadCode(change):\n",
    "    uploaded_file = uploaderCode.value[0]['content']\n",
    "    codeString=uploaded_file\n",
    "    uploaded_fileName =uploaderCode.value[0][\"name\"]\n",
    "    print(codeString)\n",
    "    if(uploaded_fileName.lower().endsWith(\"py\")):\n",
    "        session.uploadCodeReview(\"python\",codeContent=codeString)\n",
    "    elif(uploaded_fileName.lower().endsWith(\"r\")):\n",
    "        session.uploadCodeReview(\"R\",codeContent=codeString)\n",
    "    codeReviewButtom.disabled=False\n",
    "    loadReportsButtom.disabled=False\n",
    "    #y = map(lambda v : {\"Import\":v} ,session.data.getColumns())\n",
    "    #tableImports.headers=[ {'text':\"Import\",'value':\"Import\"}]\n",
    "    #tableImports.items=list(y)\n",
    "\n",
    "# register update dataset \n",
    "uploaderCode.observe(uploadCode, 'value')\n"
   ]
  },
  {
   "cell_type": "code",
   "execution_count": 70,
   "id": "a4933ee8",
   "metadata": {},
   "outputs": [],
   "source": [
    "def rewiewCode(widget, event, data):\n",
    "    importsFunc=session.evaluateCodeReview()\n",
    "    #print(calls)\n",
    "    #print(impo)\n",
    "    #codeReviewCallsBox.value=str(calls)\n",
    "    codeReviewImportsBox.value=str(importsFunc)\n",
    "    importData=pandas.DataFrame(importsFunc)\n",
    "    knownbugs=[]\n",
    "    unknownbugs=[]\n",
    "    for elem in importData[\"function\"]:\n",
    "        if str(type(elem)) == \"<class 'list'>\":\n",
    "            elem=elem[0]\n",
    "        knownbugs=knownbugs+[temporalddbb[(temporalddbb[\"Function\"]==elem)& (temporalddbb[\"Known\"]==\"Y\")].count()[0]]\n",
    "        unknownbugs=unknownbugs+[temporalddbb[(temporalddbb[\"Function\"]==elem)& (temporalddbb[\"Known\"]==\"N\")].count()[0]]\n",
    "    print(knownbugs)    \n",
    "    print(unknownbugs)    \n",
    "    importData[\"Known Bugs\"]=knownbugs\n",
    "    importData[\"Unknown Bugs\"]=unknownbugs\n",
    "    print(importData)\n",
    "    y = list(map(lambda v : {'text':v,'value':v} ,importData.columns))\n",
    "    tableImports.headers=y\n",
    "    tableImports.items=importData.to_dict(\"records\")\n",
    "\n",
    "    #print(\"done\")\n",
    "\n",
    "codeReviewButtom.on_event('click', rewiewCode)\n"
   ]
  },
  {
   "cell_type": "code",
   "execution_count": 71,
   "id": "6f81e9ea",
   "metadata": {},
   "outputs": [],
   "source": [
    "def loadReports(widget, event, data):\n",
    "    counter={}\n",
    "    for elem in temporalddbb.to_dict(\"records\"):\n",
    "        if (not elem[\"Function\"] in counter.keys()):\n",
    "            counter[elem[\"Function\"]]=1\n",
    "        else:    \n",
    "            counter[elem[\"Function\"]]=counter[elem[\"Function\"]]+1\n",
    "        bugDDBB[elem[\"Function\"]+str(counter[elem[\"Function\"]])]=elem\n",
    "    bugddbb_select.items=list(bugDDBB.keys())\n",
    "    #print(\"done\")\n",
    "\n",
    "loadReportsButtom.on_event('click', loadReports)"
   ]
  },
  {
   "cell_type": "markdown",
   "id": "563a4523",
   "metadata": {},
   "source": [
    "### Final Layout"
   ]
  },
  {
   "cell_type": "code",
   "execution_count": 72,
   "id": "5bdfd1a5",
   "metadata": {},
   "outputs": [
    {
     "data": {
      "application/vnd.jupyter.widget-view+json": {
       "model_id": "b1d0922946f54d598e9a77cb81d3fdf0",
       "version_major": 2,
       "version_minor": 0
      },
      "text/plain": [
       "Layout(align_center=True, children=[Flex(children=[Container(children=[FileUpload(value={}, description='Uploa…"
      ]
     },
     "metadata": {},
     "output_type": "display_data"
    }
   ],
   "source": [
    "pageCodeReview=v.Layout(row=True, wrap=True, align_center=True, children=[\n",
    "            v.Flex(xs12=True, lg6=True, xl4=True,  pa_4=True, children=[\n",
    "                v.Container(children=[uploaderCode,codeReviewButtom,loadReportsButtom,tableImports])\n",
    "            ]),\n",
    "        ])\n",
    "pageCodeReview"
   ]
  },
  {
   "cell_type": "markdown",
   "id": "829b8d09",
   "metadata": {},
   "source": [
    "### Widgets"
   ]
  },
  {
   "cell_type": "markdown",
   "id": "e27b8ca6",
   "metadata": {},
   "source": [
    "## Code Second Page: Code Testing\n",
    "\n",
    "This bit contains the code testing part, it takes a template and runs the tester on it."
   ]
  },
  {
   "cell_type": "code",
   "execution_count": 73,
   "id": "8fa85886",
   "metadata": {},
   "outputs": [
    {
     "name": "stdout",
     "output_type": "stream",
     "text": [
      "All tests: []\n"
     ]
    },
    {
     "data": {
      "application/vnd.jupyter.widget-view+json": {
       "model_id": "20940d1e9b5e40999a396567e8ba1d94",
       "version_major": 2,
       "version_minor": 0
      },
      "text/plain": [
       "Dropdown(options=(), value=None)"
      ]
     },
     "metadata": {},
     "output_type": "display_data"
    },
    {
     "data": {
      "application/vnd.jupyter.widget-view+json": {
       "model_id": "2d7a72e9d7b24e77b8d2df986f5dd24a",
       "version_major": 2,
       "version_minor": 0
      },
      "text/plain": [
       "Text(value='', description='Test Name:', placeholder='Type a test name')"
      ]
     },
     "metadata": {},
     "output_type": "display_data"
    },
    {
     "data": {
      "application/vnd.jupyter.widget-view+json": {
       "model_id": "9d0e69d6af894721b5658cafe1ebf6ed",
       "version_major": 2,
       "version_minor": 0
      },
      "text/plain": [
       "FileUpload(value={}, description='Upload', multiple=True)"
      ]
     },
     "metadata": {},
     "output_type": "display_data"
    },
    {
     "data": {
      "application/vnd.jupyter.widget-view+json": {
       "model_id": "b472808ab1d244c68eb046a0c3588e36",
       "version_major": 2,
       "version_minor": 0
      },
      "text/plain": [
       "FileUpload(value={}, description='Upload', multiple=True)"
      ]
     },
     "metadata": {},
     "output_type": "display_data"
    }
   ],
   "source": [
    "codeTestSelector = widgets.Dropdown(\n",
    "    options=[x[0] + (\" (running)\" if x[1] else \" (not running)\") for x in session.getAllTests(displayRunning=True)],\n",
    "    value=None,\n",
    "    disabled=False,\n",
    ")\n",
    "testName = widgets.Text(\n",
    "    value='',\n",
    "    placeholder='Type a test name',\n",
    "    disabled=False,\n",
    "    description='Test Name:',\n",
    ")\n",
    "uploaderInputs = widgets.FileUpload(\n",
    "    accept='',  # Accepted file extension e.g. '.txt', '.pdf', 'image/*', 'image/*,.pdf'\n",
    "    multiple=True  # True to accept multiple files upload else False\n",
    ")\n",
    "uploaderTemplate = widgets.FileUpload(\n",
    "    accept='',  # Accepted file extension e.g. '.txt', '.pdf', 'image/*', 'image/*,.pdf'\n",
    "    multiple=True  # True to accept multiple files upload else False\n",
    ")\n",
    "display(codeTestSelector)\n",
    "display(testName)\n",
    "display(uploaderInputs)\n",
    "display(uploaderTemplate)"
   ]
  },
  {
   "cell_type": "code",
   "execution_count": 74,
   "id": "0b158b7f",
   "metadata": {},
   "outputs": [],
   "source": [
    "n=100\n",
    "x = np.linspace(0.0, 10.0, n)\n",
    "y = np.array([0])\n",
    "#y = np.cumsum(np.random.randn(n)*10).astype(int)\n",
    "\n",
    "fig1 = plt.figure( title='Crashes')\n",
    "np.random.seed(0)\n",
    "hist1 = plt.plot(x,y)\n",
    "\n",
    "fig2 = plt.figure( title='Hangs')\n",
    "np.random.seed(0)\n",
    "hist2 = plt.plot(x,y)\n",
    "\n",
    "fig3 = plt.figure( title='Executions')\n",
    "np.random.seed(0)\n",
    "hist3 = plt.plot(x,y)\n",
    "\n",
    "fig4 = plt.figure( title='Paths')\n",
    "np.random.seed(0)\n",
    "hist4 = plt.plot(x,y)\n",
    "\n",
    "\n",
    "#hist.scales['sample'].min = float(y.min())\n",
    "#hist.scales['sample'].max = float(y.max())\n",
    "fig1.layout.width = 'auto'\n",
    "fig1.layout.height = 'auto'\n",
    "fig1.layout.min_height = '300px' # so it shows nicely in the notebook\n",
    "fig1.layout.min_width = '300px'\n",
    "fig2.layout.width = 'auto'\n",
    "fig2.layout.height = 'auto'\n",
    "fig2.layout.min_height = '300px' # so it shows nicely in the notebook\n",
    "fig2.layout.min_width = '300px'\n",
    "fig3.layout.width = 'auto'\n",
    "fig3.layout.height = 'auto'\n",
    "fig3.layout.min_height = '300px' # so it shows nicely in the notebook\n",
    "fig3.layout.min_width = '300px'\n",
    "fig4.layout.width = 'auto'\n",
    "fig4.layout.height = 'auto'\n",
    "fig4.layout.min_height = '300px' # so it shows nicely in the notebook\n",
    "fig4.layout.min_width = '300px'\n"
   ]
  },
  {
   "cell_type": "markdown",
   "id": "d8cbeaa2",
   "metadata": {},
   "source": [
    "### Strings"
   ]
  },
  {
   "cell_type": "code",
   "execution_count": 75,
   "id": "1ee6c48d",
   "metadata": {},
   "outputs": [],
   "source": [
    "testSelectionDesc=\"If you want to view a previous test, select it from the list\"\n",
    "codeTestingDesc=\"Please, provide at least one valid input\"\n",
    "codeTestingStateBox=widgets.Text(\"\")"
   ]
  },
  {
   "cell_type": "markdown",
   "id": "5b86a38d",
   "metadata": {},
   "source": [
    "### Buttons"
   ]
  },
  {
   "cell_type": "code",
   "execution_count": 76,
   "id": "ada14c4c",
   "metadata": {},
   "outputs": [
    {
     "data": {
      "application/vnd.jupyter.widget-view+json": {
       "model_id": "ee271705b4f74e6c98cb498817872326",
       "version_major": 2,
       "version_minor": 0
      },
      "text/plain": [
       "Btn(children=['Start Testing'], color='primary', disabled=True)"
      ]
     },
     "metadata": {},
     "output_type": "display_data"
    }
   ],
   "source": [
    "codeTestingButtom=v.Btn(color='primary', children=['Start Testing'])\n",
    "codeTestingButtom.disabled=True\n",
    "display(codeTestingButtom)"
   ]
  },
  {
   "cell_type": "code",
   "execution_count": 77,
   "id": "e146964b",
   "metadata": {},
   "outputs": [
    {
     "data": {
      "application/vnd.jupyter.widget-view+json": {
       "model_id": "2d659973c75046179b0dd870fb9e477d",
       "version_major": 2,
       "version_minor": 0
      },
      "text/plain": [
       "Btn(children=['New Test'], color='primary', disabled=True)"
      ]
     },
     "metadata": {},
     "output_type": "display_data"
    }
   ],
   "source": [
    "newCodeTestingButton=v.Btn(color='primary', children=['New Test'])\n",
    "newCodeTestingButton.disabled=True\n",
    "display(newCodeTestingButton)"
   ]
  },
  {
   "cell_type": "code",
   "execution_count": 78,
   "id": "77e6919a",
   "metadata": {},
   "outputs": [
    {
     "data": {
      "application/vnd.jupyter.widget-view+json": {
       "model_id": "07cab0e570bc4472b0a1d912adcd9e08",
       "version_major": 2,
       "version_minor": 0
      },
      "text/plain": [
       "Btn(children=['Run Crashes'], color='primary')"
      ]
     },
     "metadata": {},
     "output_type": "display_data"
    }
   ],
   "source": [
    "runCrashesButtom=v.Btn(color='primary', children=['Run Crashes'])\n",
    "#runCrashesButtom.disabled=True\n",
    "display(runCrashesButtom)"
   ]
  },
  {
   "cell_type": "code",
   "execution_count": 79,
   "id": "0d2fc11f",
   "metadata": {},
   "outputs": [
    {
     "data": {
      "application/vnd.jupyter.widget-view+json": {
       "model_id": "4a85fcf4d8d34dfd9052762a49b89202",
       "version_major": 2,
       "version_minor": 0
      },
      "text/plain": [
       "Btn(children=['Refresh Tests'], color='primary')"
      ]
     },
     "metadata": {},
     "output_type": "display_data"
    }
   ],
   "source": [
    "refreshTestsButton=v.Btn(color='primary', children=['Refresh Tests'])\n",
    "display(refreshTestsButton)"
   ]
  },
  {
   "cell_type": "markdown",
   "id": "1649fc99",
   "metadata": {},
   "source": [
    "### Functions\n"
   ]
  },
  {
   "cell_type": "code",
   "execution_count": 80,
   "id": "a4ef01f1",
   "metadata": {},
   "outputs": [],
   "source": [
    "def refreshTestList(widget, event, data):\n",
    "    codeTestSelector.options=[x[0] + (\" (running)\" if x[1] else \" (not running)\") for x in session.getAllTests(displayRunning=True)]\n",
    "\n",
    "refreshTestsButton.on_event('click', refreshTestList)"
   ]
  },
  {
   "cell_type": "code",
   "execution_count": 81,
   "id": "4843ec95",
   "metadata": {},
   "outputs": [],
   "source": [
    "def setPreviousTest(change):\n",
    "    if change['type'] == 'change' and change['name'] == 'value':\n",
    "        if change['new'] != None:\n",
    "            session.reconnectToSession(codeTestSelector.value.split(\" \")[0])\n",
    "\n",
    "            y = np.array([0])\n",
    "            hist1.y = hist2.y = hist3.y = hist4.y = y\n",
    "\n",
    "            codeTestingStateBox.value=\"viewing test \" + codeTestSelector.value.split(\" \")[0]\n",
    "            do_something(session, hist1, hist2, hist3, hist4)\n",
    "\n",
    "\n",
    "codeTestSelector.observe(setPreviousTest)"
   ]
  },
  {
   "cell_type": "code",
   "execution_count": 82,
   "id": "3084c6b2",
   "metadata": {},
   "outputs": [],
   "source": [
    "def setTestName():\n",
    "    if not testName.disabled:\n",
    "        if testName.value == \"\":\n",
    "            testName.value = session.setTestName()\n",
    "        else:\n",
    "            testName.value = session.setTestName(testName.value)\n",
    "        testName.disabled=True"
   ]
  },
  {
   "cell_type": "code",
   "execution_count": 83,
   "id": "7ab00a0f",
   "metadata": {},
   "outputs": [],
   "source": [
    "def uploadInputTest(change):\n",
    "    setTestName()\n",
    "    uploaded_file = uploaderInputs.value[0]['content']\n",
    "    codeString=uploaded_file\n",
    "    uploaded_fileName =uploaderInputs.value[0][\"name\"]\n",
    "    print(codeString)\n",
    "    session.uploadCodeInput(codeContent=codeString)\n",
    "    #codeTestingButtom.disabled=False\n",
    "    #y = map(lambda v : {\"Import\":v} ,session.data.getColumns())\n",
    "    #tableImports.headers=[ {'text':\"Import\",'value':\"Import\"}]\n",
    "    #tableImports.items=list(y)\n",
    "\n",
    "# register update dataset \n",
    "uploaderInputs.observe(uploadInputTest, 'value')\n"
   ]
  },
  {
   "cell_type": "code",
   "execution_count": 84,
   "id": "a3abfcf2",
   "metadata": {},
   "outputs": [],
   "source": [
    "def uploadCodeTest(change):\n",
    "    setTestName()\n",
    "    uploaded_file = uploaderTemplate.value[0]['content']\n",
    "    codeString=str(uploaded_file.tobytes(),\"ascii\")\n",
    "    uploaded_fileName =uploaderTemplate.value[0][\"name\"]\n",
    "    print(codeString)\n",
    "    session.uploadCodeTemplate(\"python\",codeContent=codeString)\n",
    "    codeTestingButtom.disabled=False\n",
    "    #y = map(lambda v : {\"Import\":v} ,session.data.getColumns())\n",
    "    #tableImports.headers=[ {'text':\"Import\",'value':\"Import\"}]\n",
    "    #tableImports.items=list(y)\n",
    "\n",
    "# register update dataset \n",
    "uploaderTemplate.observe(uploadCodeTest, 'value')\n"
   ]
  },
  {
   "cell_type": "code",
   "execution_count": 85,
   "id": "50c55ad5",
   "metadata": {},
   "outputs": [],
   "source": [
    "def runCrashes(widget, event, data):\n",
    "    codeTestingStateBox.value=\"Crashes Generated\"\n",
    "    #session.codeTemplate=\"/Users/hector1/mltest/pythonTest/sklearnAFLLogReg.py\"\n",
    "    #session.outputsFolder=\"/Users/hector1/mltest/pythonTest/fuzzing-resultsLogReg\"\n",
    "    #session.crashes=8\n",
    "    command=\"bash runner.sh \" + session.codeTemplate + \" \" + session.outputsFolder\n",
    "    os.system(command)\n",
    "    for i in range(0,session.crashes):\n",
    "        newCase={}\n",
    "        f_out = open(\"crash_\" + str(i) +\".txt\", \"r\") \n",
    "        f_err = open(\"crash_error_\" + str(i) +\".txt\", \"r\") \n",
    "        linesOut=f_out.readlines()\n",
    "        linesErr=f_err.readlines()\n",
    "        newCase[\"Output\"]=linesOut\n",
    "        newCase[\"Error\"]=linesErr\n",
    "        bugsRun[\"Crash\"+str(i)]=newCase\n",
    "    bugrun_select.items=list(bugsRun.keys())\n",
    "    #importsFunc=session.evaluateCodeReview()\n",
    "    #print(calls)\n",
    "    #print(impo)\n",
    "    #codeReviewCallsBox.value=str(calls)\n",
    "    #codeReviewImportsBox.value=str(importsFunc)\n",
    "    #importData=pandas.DataFrame(importsFunc)\n",
    "    #print(importData)\n",
    "    #y = list(map(lambda v : {'text':v,'value':v} ,importData.columns))\n",
    "    #tableImports.headers=y\n",
    "    #tableImports.items=importData.to_dict(\"records\")\n",
    "\n",
    "    #print(\"done\")\n",
    "runCrashesButtom.on_event('click', runCrashes)\n",
    "\n"
   ]
  },
  {
   "cell_type": "code",
   "execution_count": 86,
   "id": "d25b7ea3",
   "metadata": {},
   "outputs": [],
   "source": [
    "def testCode(widget, event, data):\n",
    "    codeTestingButtom.disabled=True\n",
    "    newCodeTestingButton.disabled=False\n",
    "    session.runCodeTesting()\n",
    "    codeTestingStateBox.value=\"Code Running\"\n",
    "    do_something(session,hist1,hist2,hist3,hist4)\n",
    "    #importsFunc=session.evaluateCodeReview()\n",
    "    #print(calls)\n",
    "    #print(impo)\n",
    "    #codeReviewCallsBox.value=str(calls)\n",
    "    #codeReviewImportsBox.value=str(importsFunc)\n",
    "    #importData=pandas.DataFrame(importsFunc)\n",
    "    #print(importData)\n",
    "    #y = list(map(lambda v : {'text':v,'value':v} ,importData.columns))\n",
    "    #tableImports.headers=y\n",
    "    #tableImports.items=importData.to_dict(\"records\")\n",
    "\n",
    "    #print(\"done\")\n",
    "codeTestingButtom.on_event('click', testCode)\n",
    "\n"
   ]
  },
  {
   "cell_type": "code",
   "execution_count": 87,
   "id": "fa1199d7",
   "metadata": {},
   "outputs": [],
   "source": [
    "def newTest(widget, event, data):\n",
    "    # maybe better to just do session = MLighter({})\n",
    "    session.resetSession()\n",
    "    testName.disabled = False\n",
    "    codeTestingButtom.disabled=False\n",
    "    codeTestingStateBox.value=\"\"\n",
    "    testName.value=\"\"\n",
    "\n",
    "    y = np.array([0])\n",
    "    hist1.y = hist2.y = hist3.y = hist4.y = y\n",
    "\n",
    "    do_something(session, hist1, hist2, hist3, hist4)\n",
    "\n",
    "\n",
    "newCodeTestingButton.on_event('click', newTest)"
   ]
  },
  {
   "cell_type": "code",
   "execution_count": 88,
   "id": "6f61127f",
   "metadata": {},
   "outputs": [],
   "source": [
    "def do_something(session,hist1,hist2,hist3,hist4):\n",
    "    try:\n",
    "        state=session.retrieveTestingState()\n",
    "        if(not state is None):\n",
    "            #print(state)\n",
    "            #print(hist1.y)\n",
    "            #print(hist2.x)\n",
    "            #print(state[\"Crashes\"])\n",
    "            if(len(hist1.y)<100):\n",
    "                #print(type(hist1.y))\n",
    "                #print(hist1.y)\n",
    "                #print(np.array([int(state[\"Crashes\"])]))\n",
    "                hist1.y=np.concatenate((hist1.y,np.array([int(state[\"Crashes\"])])))\n",
    "                session.crashes=int(state[\"Crashes\"])\n",
    "                #print(hist1.y)\n",
    "                #print(hist1.x)\n",
    "                hist2.y=np.concatenate((hist2.y,np.array([int(state[\"Hangs\"])])))\n",
    "                hist3.y=np.concatenate((hist3.y,np.array([int(state[\"Execs\"])])))\n",
    "                hist4.y=np.concatenate((hist4.y,np.array([int(state[\"Paths\"])])))   \n",
    "                if(int(state[\"Crashes\"])>0):\n",
    "                    runCrashesButtom.disabled=False\n",
    "                #hist1.y=np.concatenate((hist1.y,np.array(int(state[\"Crashes\"]))))\n",
    "                #hist2.y=np.concatenate(hist2.y,np.array(int(state[\"Hangs\"])))\n",
    "                #hist3.y=np.concatenate(hist3.y,np.array(int(state[\"Execs\"])))\n",
    "                #hist4.y=np.concatenate(hist4.y,np.array(int(state[\"Paths\"])))\n",
    "    except:\n",
    "        print(\"Waiting for the tester to be ready\\n\")\n",
    "    t = threading.Timer(1,do_something,(session,hist1,hist2,hist3,hist4,)).start()"
   ]
  },
  {
   "cell_type": "markdown",
   "id": "6af69202",
   "metadata": {},
   "source": [
    "### Final Layout"
   ]
  },
  {
   "cell_type": "code",
   "execution_count": 89,
   "id": "0f455250",
   "metadata": {},
   "outputs": [
    {
     "data": {
      "application/vnd.jupyter.widget-view+json": {
       "model_id": "5168176548b44cb6a8d153fbcdb2a967",
       "version_major": 2,
       "version_minor": 0
      },
      "text/plain": [
       "Layout(align_center=True, children=[Flex(children=[HBox(children=(VBox(children=(Figure(axes=[Axis(scale=Linea…"
      ]
     },
     "metadata": {},
     "output_type": "display_data"
    }
   ],
   "source": [
    "pageMonitor=v.Layout(row=False, wrap=False, align_center=True, children=[\n",
    "            v.Flex(xs12=True, lg6=True, xl4=True, pa_4=True,  children=[\n",
    "                widgets.HBox([widgets.VBox([fig1,fig2]),widgets.VBox([fig3,fig4])])\n",
    "            ]),\n",
    "        ])\n",
    "pageMonitor\n"
   ]
  },
  {
   "cell_type": "code",
   "execution_count": 90,
   "id": "ceab2682",
   "metadata": {},
   "outputs": [
    {
     "data": {
      "application/vnd.jupyter.widget-view+json": {
       "model_id": "6f263cedbbf54080a671834aa65d194f",
       "version_major": 2,
       "version_minor": 0
      },
      "text/plain": [
       "Tabs(children=[Tab(children=['Test Name']), Tab(children=['Inputs']), Tab(children=['Code']), Tab(children=['M…"
      ]
     },
     "metadata": {},
     "output_type": "display_data"
    }
   ],
   "source": [
    "pageCodeTesting=v.Tabs(children=[\n",
    "    v.Tab(children=['Test Name']),\n",
    "    v.Tab(children=['Inputs']),\n",
    "    v.Tab(children=['Code']),\n",
    "    v.Tab(children=['Monitoring']),\n",
    "    v.TabItem(children=[\n",
    "        v.Container(children=[newCodeTestingButton, testName])\n",
    "    ]),\n",
    "    v.TabItem(children=[\n",
    "        v.Layout(row=True, wrap=True, align_center=True, children=[\n",
    "            v.Flex(xs12=True, lg6=True, xl4=True, pa_4=True,  children=[\n",
    "                v.Container(children=[codeTestingDesc,uploaderInputs])\n",
    "            ]),\n",
    "        ])\n",
    "      ]),\n",
    "    v.TabItem(children=[\n",
    "        v.Container(children=[uploaderTemplate,codeTestingButtom])\n",
    "    ]),\n",
    "    v.TabItem(children=[\n",
    "        v.Container(children=[codeTestingStateBox,runCrashesButtom]),\n",
    "        v.Container(children=[\n",
    "            v.Layout(row=True, wrap=True, align_center=True, children=[\n",
    "                v.Flex(xs12=True, lg6=True, xl4=True, pa_4=True,  children=[\n",
    "                    v.Container(children=[testSelectionDesc,codeTestSelector,refreshTestsButton])\n",
    "                ]),\n",
    "            ]),\n",
    "        ]),\n",
    "        pageMonitor\n",
    "    ])\n",
    "])\n",
    "pageCodeTesting"
   ]
  },
  {
   "cell_type": "markdown",
   "id": "3d926091",
   "metadata": {},
   "source": [
    "## Code Third Page: Bug Reports\n",
    "\n",
    "This includes new and historical bug reports. For the new, the user will need to activate them."
   ]
  },
  {
   "cell_type": "markdown",
   "id": "f7c27c42",
   "metadata": {},
   "source": [
    "### Widgets"
   ]
  },
  {
   "cell_type": "code",
   "execution_count": 91,
   "id": "305a8ec9",
   "metadata": {},
   "outputs": [],
   "source": [
    "output=\"*** caught segfault ***\\n \\\n",
    "address 0x7ffd88648b38, cause 'memory not mapped'\\n \\\n",
    "Traceback:\\n \\\n",
    " 1: readRDS(args[1])\\n \\\n",
    "An irrecoverable exception occurred. R is aborting now ...\"\n",
    "exploit=\"   Description: Access violation during branch instruction\\n \\\n",
    "   Short description: BranchAv (4/22)\\n \\\n",
    "   Explanation: The target crashed on a branch instruction, which may indicate that the control flow is tainted.\" \n",
    "line=\"Unkown\"\n",
    "fileC=\"Unkown\"\n",
    "language=\"R\"\n",
    "version=\"4.1.0\"\n",
    "bugCase1={'Output':output,'Exploit':exploit,'Line':line,'Language':language,'Version':version,'File':fileC}\n",
    "\n",
    "output=\"All good\"\n",
    "exploit=\"Crashed on a branch instruction, which may indicate that the control flow is tainted.\" \n",
    "line=\"220\"\n",
    "fileC=\"nnet.c\"\n",
    "language=\"R\"\n",
    "version=\"4.1.0\"\n",
    "bugCase2={'Output':output,'Exploit':exploit,'Line':line,'Language':language,'Version':version,'File':fileC}\n",
    "bugs={\"Bug1\":bugCase1,\"Bug2\":bugCase2}"
   ]
  },
  {
   "cell_type": "code",
   "execution_count": 92,
   "id": "e5974013",
   "metadata": {},
   "outputs": [
    {
     "data": {
      "application/vnd.jupyter.widget-view+json": {
       "model_id": "1c0517d9984d4909b426d84476c83290",
       "version_major": 2,
       "version_minor": 0
      },
      "text/plain": [
       "Select(items=['None'], label='Select Bug From Database', v_model='None')"
      ]
     },
     "metadata": {},
     "output_type": "display_data"
    }
   ],
   "source": [
    "bugddbb_select = v.Select(\n",
    "    v_model=\"None\",\n",
    "    label='Select Bug From Database',\n",
    "    items=['None'])\n",
    "bugddbb_select"
   ]
  },
  {
   "cell_type": "code",
   "execution_count": 93,
   "id": "d213c7dc",
   "metadata": {},
   "outputs": [
    {
     "data": {
      "application/vnd.jupyter.widget-view+json": {
       "model_id": "ac29792dd22d496a896adcb0a0040c5d",
       "version_major": 2,
       "version_minor": 0
      },
      "text/plain": [
       "Select(items=['None'], label='Select Bug From Tester', v_model='None')"
      ]
     },
     "metadata": {},
     "output_type": "display_data"
    }
   ],
   "source": [
    "bugrun_select = v.Select(\n",
    "    v_model=\"None\",\n",
    "    label='Select Bug From Tester',\n",
    "    items=['None'])\n",
    "bugrun_select"
   ]
  },
  {
   "cell_type": "markdown",
   "id": "3fc76e65",
   "metadata": {},
   "source": [
    "### Strings"
   ]
  },
  {
   "cell_type": "code",
   "execution_count": 94,
   "id": "d2579bf9",
   "metadata": {},
   "outputs": [],
   "source": [
    "bugsTitleString=\"Bug Report\"\n",
    "bugsLanguageString=\"Language: \"\n",
    "bugsVersionString=\"Version: \"\n",
    "bugsKnownString=\"Known: \"\n",
    "bugsLibString=\"Library: \"\n",
    "bugsFunctionString=\"Function: \"\n",
    "bugsMethodString=\"Method: \"\n",
    "bugsLineString=\"Line: \"\n",
    "bugsFileString=\"File: \"\n",
    "bugsInputString=\"Input: \"\n",
    "bugsErrorTypeString=\"Error Type: \"\n",
    "bugsOutputString=\"Output: \"\n",
    "bugsExploitString=\"Exploit: \"\n",
    "\n",
    "outTitleString=\"Output Report\"\n",
    "outOutString=\"Output Produced: \"\n",
    "outErrorString=\"Error Produced: \"\n",
    "\n",
    "#'Library', 'Function', 'Method', 'Template (ID)', 'Language (R/Python)',\n",
    "#       'Language Version', 'Execution (ID)', 'Type', 'Trace (ID)',\n",
    "#       'Exploitable (Y/N)', 'Known', 'Error Type', 'Message', 'Input',\n",
    "#       'Crash File', 'Exploit Type', 'File', 'Line'\n",
    "#bugsTitle,bugsLanguage,bugsVersion,bugsKnown,bugsLib,bugsFunction,\n",
    "#            bugsMethod,bugsFile,bugsLine,bugsInput,bugsErrorType,bugsOutput,bugsExploit"
   ]
  },
  {
   "cell_type": "markdown",
   "id": "6fedb845",
   "metadata": {},
   "source": [
    "### HTML Function"
   ]
  },
  {
   "cell_type": "code",
   "execution_count": 95,
   "id": "43d71043",
   "metadata": {},
   "outputs": [],
   "source": [
    "def createBugReport(bugCase):\n",
    "    bugsTitle=v.Html(\n",
    "        tag='h1',\n",
    "        attributes={'title': 'a title'},\n",
    "        children=[bugsTitleString],\n",
    "        style_=\"text-align:center\"\n",
    "        )\n",
    "\n",
    "    bugsLanguage=v.Html(\n",
    "        tag='p',\n",
    "        attributes={'paragraph': 'p1'},\n",
    "        children=[bugsLanguageString,str(bugCase[\"Language (R/Python)\"])]\n",
    "        )\n",
    "    bugsVersion=v.Html(\n",
    "        tag='p',\n",
    "        attributes={'paragraph': 'p2'},\n",
    "        children=[bugsVersionString,str(bugCase[\"Language Version\"])]\n",
    "        )    \n",
    "    bugsKnown=v.Html(\n",
    "        tag='p',\n",
    "        attributes={'paragraph': 'p3'},\n",
    "        children=[bugsKnownString,str(bugCase[\"Known\"])]\n",
    "        )\n",
    "    bugsLib=v.Html(\n",
    "        tag='p',\n",
    "        attributes={'paragraph': 'p4'},\n",
    "        children=[bugsLibString,str(bugCase[\"Library\"])]\n",
    "        )\n",
    "    bugsFunction=v.Html(\n",
    "        tag='p',\n",
    "        attributes={'paragraph': 'p5'},\n",
    "        children=[bugsFunctionString,str(bugCase[\"Function\"])]\n",
    "        )\n",
    "    if(not bugCase[\"Method\"] is float('nan')):\n",
    "        bugsMethod=v.Html(\n",
    "            tag='p',\n",
    "            attributes={'paragraph': 'p6'},\n",
    "            children=[bugsMethodString,str(bugCase[\"Method\"])]\n",
    "        )\n",
    "    else:\n",
    "        bugsMethod=v.Html(\n",
    "            tag='p',\n",
    "            attributes={'paragraph': 'p6'},\n",
    "            children=[bugsFileString,\"Not an Object\"]\n",
    "        )    \n",
    "    bugsLine=v.Html(\n",
    "        tag='p',\n",
    "        attributes={'paragraph': 'p7'},\n",
    "        children=[bugsLineString,str(bugCase[\"Line\"])]\n",
    "        )\n",
    "    bugsFile=v.Html(\n",
    "        tag='p',\n",
    "        attributes={'paragraph': 'p8'},\n",
    "        children=[bugsFileString,str(bugCase[\"File\"])]\n",
    "        )\n",
    "    bugsInput=v.Html(\n",
    "        tag='p',\n",
    "        attributes={'paragraph': 'p9'},\n",
    "        children=[bugsInputString,str(bugCase[\"Input\"])]\n",
    "        )\n",
    "    bugsErrorType=v.Html(\n",
    "        tag='p',\n",
    "        attributes={'paragraph': 'p10'},\n",
    "        children=[bugsErrorTypeString,str(bugCase[\"Error Type\"])]\n",
    "        )\n",
    "    bugsOutput=v.Html(\n",
    "        tag='p',\n",
    "        attributes={'paragraph': 'p11'},\n",
    "        children=[bugsOutputString,str(bugCase[\"Message\"])]\n",
    "        )\n",
    "    bugsExploit=v.Html(\n",
    "        tag='p',\n",
    "        attributes={'paragraph': 'p12'},\n",
    "        children=[bugsExploitString,str(bugCase[\"Exploit Type\"])]\n",
    "        )\n",
    "    return [bugsTitle,bugsLanguage,bugsVersion,bugsKnown,bugsLib,bugsFunction,\n",
    "            bugsMethod,bugsFile,bugsLine,bugsInput,bugsErrorType,bugsOutput,bugsExploit]\n",
    "\n"
   ]
  },
  {
   "cell_type": "code",
   "execution_count": 96,
   "id": "b0860239",
   "metadata": {},
   "outputs": [],
   "source": [
    "def createBugOutput(runCase):\n",
    "    outTitle=v.Html(\n",
    "        tag='h1',\n",
    "        attributes={'title': 'a title'},\n",
    "        children=[outTitleString],\n",
    "        style_=\"text-align:center\"\n",
    "        )\n",
    "    outmessage=v.Html(\n",
    "        tag='h3',\n",
    "        attributes={'paragraph': 'p1'},\n",
    "        children=[outOutString]\n",
    "        )\n",
    "    outcase=[]\n",
    "    for line in runCase[\"Output\"]:\n",
    "        outcase= outcase + [v.Html(\n",
    "            tag='p',\n",
    "            attributes={'paragraph': 'p1'},\n",
    "            children=[line]\n",
    "            )]\n",
    "    errormessage=v.Html(\n",
    "        tag='h3',\n",
    "        attributes={'paragraph': 'p2'},\n",
    "        children=[outErrorString]\n",
    "        )    \n",
    "    errorcase=[]\n",
    "    for line in runCase[\"Error\"]:\n",
    "        errorcase=errorcase + [v.Html(\n",
    "            tag='p',\n",
    "            attributes={'paragraph': 'p2'},\n",
    "            children=[line]\n",
    "            )]\n",
    "    output= [outTitle,generalSpace,outmessage] + outcase + [errormessage] + errorcase\n",
    "    return output\n",
    "\n"
   ]
  },
  {
   "cell_type": "markdown",
   "id": "37e52ff7",
   "metadata": {},
   "source": [
    "### Buttons"
   ]
  },
  {
   "cell_type": "code",
   "execution_count": 97,
   "id": "47e1754c",
   "metadata": {},
   "outputs": [
    {
     "data": {
      "application/vnd.jupyter.widget-view+json": {
       "model_id": "30dbd392e34849b48ae00e35af282efe",
       "version_major": 2,
       "version_minor": 0
      },
      "text/plain": [
       "Btn(children=['Load Bugs'], color='primary')"
      ]
     },
     "metadata": {},
     "output_type": "display_data"
    }
   ],
   "source": [
    "bugsLoadButtom=v.Btn(color='primary', children=['Load Bugs'])\n",
    "display(bugsLoadButtom)"
   ]
  },
  {
   "cell_type": "code",
   "execution_count": 98,
   "id": "06c6a7b3",
   "metadata": {},
   "outputs": [],
   "source": [
    "#createBugReport(bugDDBB[\"LogisticRegression5\"])"
   ]
  },
  {
   "cell_type": "markdown",
   "id": "ac85bf9a",
   "metadata": {},
   "source": [
    "### Functions"
   ]
  },
  {
   "cell_type": "code",
   "execution_count": 99,
   "id": "7dece594",
   "metadata": {},
   "outputs": [],
   "source": [
    "def getAllBugs(widget, event, data):\n",
    "    #session.runCodeTesting()\n",
    "    #codeTestingStateBox.value=\"Code Running\"\n",
    "    #importsFunc=session.evaluateCodeReview()\n",
    "    #print(calls)\n",
    "    bug_select.items=list(bugDDBB.keys())\n",
    "    print(\"Done\")\n",
    "    #print(impo)\n",
    "    #codeReviewCallsBox.value=str(calls)\n",
    "    #codeReviewImportsBox.value=str(importsFunc)\n",
    "    #importData=pandas.DataFrame(importsFunc)\n",
    "    #print(importData)\n",
    "    #y = list(map(lambda v : {'text':v,'value':v} ,importData.columns))\n",
    "    #tableImports.headers=y\n",
    "    #tableImports.items=importData.to_dict(\"records\")\n",
    "\n",
    "    #print(\"done\")\n",
    "\n",
    "bugsLoadButtom.on_event('click', getAllBugs)\n"
   ]
  },
  {
   "cell_type": "code",
   "execution_count": 100,
   "id": "3d306f79",
   "metadata": {},
   "outputs": [],
   "source": [
    "def addBug(bugCase):\n",
    "    bugTab=v.TabItem(children=[\n",
    "        v.Layout(row=True, wrap=True, align_center=True, children=[\n",
    "            v.Flex(xs12=True, lg6=True, xl4=True, pa_4=True,  children=[\n",
    "                v.Container(children=createBugReport(bugCase))\n",
    "            ]),\n",
    "        ])\n",
    "    ])\n",
    "    return bugTab"
   ]
  },
  {
   "cell_type": "code",
   "execution_count": 101,
   "id": "05fa37bc",
   "metadata": {},
   "outputs": [],
   "source": [
    "def update_bug(change):\n",
    "    #print(change)\n",
    "    #if(change[\"new\"]==\"Discrete\"):\n",
    "    #    session.chooseTransformation(\"discreet\")\n",
    "    #    configuration[\"noise\"]=1\n",
    "    #else:\n",
    "    #    print(\"Selection not compatible\")\n",
    "    #y = map(lambda v : {\"Feature\":v} ,session.data.getColumns())\n",
    "    #tableEvasion.headers=[ {'text':\"Feature\",'value':\"Feature\"}]\n",
    "    #tableEvasion.items=list(y)\n",
    "    exampleBug.children=createBugReport(bugDDBB[change[\"new\"]])\n",
    "    print(\"Selection done\")\n",
    "\n",
    "bugddbb_select.observe(update_bug, 'v_model')\n"
   ]
  },
  {
   "cell_type": "code",
   "execution_count": 102,
   "id": "4408e19d",
   "metadata": {},
   "outputs": [],
   "source": [
    "def update_out(change):\n",
    "    #print(change)\n",
    "    #if(change[\"new\"]==\"Discrete\"):\n",
    "    #    session.chooseTransformation(\"discreet\")\n",
    "    #    configuration[\"noise\"]=1\n",
    "    #else:\n",
    "    #    print(\"Selection not compatible\")\n",
    "    #y = map(lambda v : {\"Feature\":v} ,session.data.getColumns())\n",
    "    #tableEvasion.headers=[ {'text':\"Feature\",'value':\"Feature\"}]\n",
    "    #tableEvasion.items=list(y)\n",
    "    exampleBug.children=createBugOutput(bugsRun[change[\"new\"]])\n",
    "    print(\"Selection done\")\n",
    "\n",
    "bugrun_select.observe(update_out, 'v_model')\n"
   ]
  },
  {
   "cell_type": "markdown",
   "id": "77ce7557",
   "metadata": {},
   "source": [
    "### Final Layout"
   ]
  },
  {
   "cell_type": "code",
   "execution_count": 103,
   "id": "a1524874",
   "metadata": {
    "scrolled": true
   },
   "outputs": [
    {
     "data": {
      "application/vnd.jupyter.widget-view+json": {
       "model_id": "540e74b284f6482b9fdad8cb2cd429e5",
       "version_major": 2,
       "version_minor": 0
      },
      "text/plain": [
       "Tabs(children=[Tab(children=['Load Bugs']), Tab(children=['Bug Report']), TabItem(children=[Layout(align_cente…"
      ]
     },
     "metadata": {},
     "output_type": "display_data"
    }
   ],
   "source": [
    "exampleBug=v.Container(children=[])\n",
    "pageBugs=v.Tabs(children=[\n",
    "    v.Tab(children=['Load Bugs']),\n",
    "    v.Tab(children=['Bug Report']),\n",
    "    v.TabItem(children=[\n",
    "        v.Layout(row=True, wrap=True, align_center=True, children=[\n",
    "            v.Flex(xs12=True, lg6=True, xl4=True, pa_4=True,  children=[\n",
    "#                v.Container(children=[bugsLoadButtom,bugddbb_select])\n",
    "                v.Container(children=[bugddbb_select,bugrun_select])\n",
    "            ]),\n",
    "        ])\n",
    "      ]),\n",
    "    v.TabItem(children=[\n",
    "        v.Layout(row=True, wrap=True, align_center=True, children=[\n",
    "            v.Flex(xs12=True, lg6=True, xl4=True, pa_4=True,  children=[\n",
    "                exampleBug\n",
    "            ]),\n",
    "        ])\n",
    "    ])\n",
    "])\n",
    "pageBugs"
   ]
  },
  {
   "cell_type": "markdown",
   "id": "08e5d71f",
   "metadata": {},
   "source": [
    "## Menus\n",
    "This part contains the lateral menus that connect the pages"
   ]
  },
  {
   "cell_type": "code",
   "execution_count": 104,
   "id": "4c423b3c",
   "metadata": {},
   "outputs": [],
   "source": [
    "list_itemsModel = [\n",
    "   v.ListItem(link=True, children=[\n",
    "        v.ListItemIcon(children=[\n",
    "            v.Icon(children=[\"home\"]),\n",
    "        ]),\n",
    "        v.ListItemContent(children=[\n",
    "            v.ListItemTitle(children=[\"Home\"])\n",
    "        ])\n",
    "    ]),\n",
    "     v.ListItem(link=True, children=[\n",
    "        v.ListItemIcon(children=[\n",
    "            v.Icon(children=[\"help\"]),\n",
    "        ]),\n",
    "        v.ListItemContent(children=[\n",
    "            v.ListItemTitle(children=[\"Help\"])\n",
    "        ])\n",
    "    ]),\n",
    "    v.ListItem(link=True, children=[\n",
    "        v.ListItemIcon(children=[\n",
    "            v.Icon(children=[\"account_box\"]),\n",
    "        ]),\n",
    "        v.ListItemContent(children=[\n",
    "            v.ListItemTitle(children=[\"Dataset\"])\n",
    "        ])\n",
    "    ]),\n",
    "    v.ListItem(link=True, children=[\n",
    "        v.ListItemIcon(children=[\n",
    "            v.Icon(children=[\"timeline\"]),\n",
    "        ]),\n",
    "        v.ListItemContent(children=[\n",
    "            v.ListItemTitle(children=[\"Model\"])\n",
    "        ])\n",
    "    ]),\n",
    "    v.ListItem(link=True, children=[\n",
    "        v.ListItemIcon(children=[\n",
    "            v.Icon(children=[\"build\"]),\n",
    "        ]),\n",
    "        v.ListItemContent(children=[\n",
    "            v.ListItemTitle(children=[\"Evasion\"])\n",
    "        ])\n",
    "    ]),\n",
    "    v.ListItem(link=True, children=[\n",
    "        v.ListItemIcon(children=[\n",
    "            v.Icon(children=[\"wb_sunny\"]),\n",
    "        ]),\n",
    "        v.ListItemContent(children=[\n",
    "            v.ListItemTitle(children=[\"Run\"])\n",
    "        ])\n",
    "    ]),\n",
    "    v.ListItem(link=True, children=[\n",
    "        v.ListItemIcon(children=[\n",
    "            v.Icon(children=[\"report\"]),\n",
    "        ]),\n",
    "        v.ListItemContent(children=[\n",
    "            v.ListItemTitle(children=[\"Report\"])\n",
    "        ])\n",
    "    ])\n",
    "\n",
    "]\n"
   ]
  },
  {
   "cell_type": "code",
   "execution_count": 105,
   "id": "8211f324",
   "metadata": {},
   "outputs": [],
   "source": [
    "list_itemsCode = [\n",
    "   v.ListItem(link=True, children=[\n",
    "        v.ListItemIcon(children=[\n",
    "            v.Icon(children=[\"home\"]),\n",
    "        ]),\n",
    "        v.ListItemContent(children=[\n",
    "            v.ListItemTitle(children=[\"Home\"])\n",
    "        ])\n",
    "    ]),\n",
    "     v.ListItem(link=True, children=[\n",
    "        v.ListItemIcon(children=[\n",
    "            v.Icon(children=[\"help\"]),\n",
    "        ]),\n",
    "        v.ListItemContent(children=[\n",
    "            v.ListItemTitle(children=[\"Help\"])\n",
    "        ])\n",
    "    ]),\n",
    "    v.ListItem(link=True, children=[\n",
    "        v.ListItemIcon(children=[\n",
    "            v.Icon(children=[\"account_box\"]),\n",
    "        ]),\n",
    "        v.ListItemContent(children=[\n",
    "            v.ListItemTitle(children=[\"Code Testing\"])\n",
    "        ])\n",
    "    ]),\n",
    "    v.ListItem(link=True, children=[\n",
    "        v.ListItemIcon(children=[\n",
    "            v.Icon(children=[\"timeline\"]),\n",
    "        ]),\n",
    "        v.ListItemContent(children=[\n",
    "            v.ListItemTitle(children=[\"Code Review\"])\n",
    "        ])\n",
    "    ]),\n",
    "    v.ListItem(link=True, children=[\n",
    "        v.ListItemIcon(children=[\n",
    "            v.Icon(children=[\"bug_report\"]),\n",
    "        ]),\n",
    "        v.ListItemContent(children=[\n",
    "            v.ListItemTitle(children=[\"Bug Reports\"])\n",
    "        ])\n",
    "    ])\n",
    "\n",
    "\n",
    "]\n"
   ]
  },
  {
   "cell_type": "code",
   "execution_count": 106,
   "id": "d413a670",
   "metadata": {},
   "outputs": [],
   "source": [
    "list_itemsHome = [\n",
    "    v.ListItem(link=True, children=[\n",
    "        v.ListItemIcon(children=[\n",
    "            v.Icon(children=[\"account_box\"]),\n",
    "        ]),\n",
    "        v.ListItemContent(children=[\n",
    "            v.ListItemTitle(children=[\"Code Blindspots\"])\n",
    "        ])\n",
    "    ]),\n",
    "    v.ListItem(link=True, children=[\n",
    "        v.ListItemIcon(children=[\n",
    "            v.Icon(children=[\"timeline\"]),\n",
    "        ]),\n",
    "        v.ListItemContent(children=[\n",
    "            v.ListItemTitle(children=[\"Model Blindspots\"])\n",
    "        ])\n",
    "    ])\n",
    "\n",
    "]"
   ]
  },
  {
   "cell_type": "markdown",
   "id": "41599008",
   "metadata": {},
   "source": [
    "## Vuetify setup\n",
    "This part prepare the main menus with the default pages and connects with Vuetify"
   ]
  },
  {
   "cell_type": "code",
   "execution_count": 107,
   "id": "793214d8",
   "metadata": {},
   "outputs": [],
   "source": [
    "content_nav = v.List(\n",
    "    _metadata={'mount_id':'content-nav'},\n",
    "    column=True,\n",
    "    children=list_itemsHome\n",
    ")\n",
    "# By default, page1 is shown\n",
    "content_main = v.Layout(\n",
    "    _metadata={'mount_id': 'content-main'},\n",
    "    children=[pageMain]\n",
    ")"
   ]
  },
  {
   "cell_type": "code",
   "execution_count": 108,
   "id": "285a7e0d",
   "metadata": {},
   "outputs": [],
   "source": [
    "def switch_to_Home(*args):\n",
    "    appbar_title.children = ['MLigther']\n",
    "    content_main.children = [pageMain]\n",
    "    content_nav.children = list_itemsHome\n",
    "    appbar_subtitle.children = ['MLighter Main Menu']"
   ]
  },
  {
   "cell_type": "code",
   "execution_count": 109,
   "id": "78743b76",
   "metadata": {},
   "outputs": [],
   "source": [
    "def switch_to_helpModel(*args):\n",
    "    appbar_title.children = ['Help']\n",
    "    content_main.children = [pageHelpModel]\n",
    "\n",
    "def switch_to_firstModel(*args):\n",
    "    appbar_title.children = ['Dataset']\n",
    "    content_main.children = [page1]\n",
    "    \n",
    "def switch_to_secondModel(*args):\n",
    "    appbar_title.children = ['Model']\n",
    "    content_main.children = [page2]\n",
    "    \n",
    "def switch_to_thirdModel(*args):\n",
    "    appbar_title.children = ['Evasion']\n",
    "    content_main.children = [page3]\n",
    "\n",
    "def switch_to_fourthModel(*args):\n",
    "    appbar_title.children = ['Run']\n",
    "    content_main.children = [page4]\n",
    "\n",
    "def switch_to_fifthModel(*args):\n",
    "    appbar_title.children = ['Report']\n",
    "    content_main.children = [page5]\n",
    "\n",
    "list_itemsModel[0].on_event('click', switch_to_Home)\n",
    "list_itemsModel[1].on_event('click', switch_to_helpModel)\n",
    "list_itemsModel[2].on_event('click', switch_to_firstModel)\n",
    "list_itemsModel[3].on_event('click', switch_to_secondModel)\n",
    "list_itemsModel[4].on_event('click', switch_to_thirdModel)\n",
    "list_itemsModel[5].on_event('click', switch_to_fourthModel)\n",
    "list_itemsModel[6].on_event('click', switch_to_fifthModel)\n"
   ]
  },
  {
   "cell_type": "code",
   "execution_count": 110,
   "id": "7f4d80cb",
   "metadata": {},
   "outputs": [],
   "source": [
    "def switch_to_helpCode(*args):\n",
    "    appbar_title.children = ['Help']\n",
    "    content_main.children = [pageHelpCode]\n",
    "\n",
    "def switch_to_firstCode(*args):\n",
    "    appbar_title.children = [\"Code Testing\"]\n",
    "    content_main.children = [pageCodeTesting]\n",
    "    \n",
    "def switch_to_secondCode(*args):\n",
    "    appbar_title.children = [\"Code Review\"]\n",
    "    content_main.children = [pageCodeReview]\n",
    "    \n",
    "def switch_to_bugs(*args):\n",
    "    appbar_title.children = ['Bug Reports']\n",
    "    content_main.children = [pageBugs]\n",
    "\n",
    "\n",
    "list_itemsCode[0].on_event('click', switch_to_Home)    \n",
    "list_itemsCode[1].on_event('click', switch_to_helpCode)\n",
    "list_itemsCode[2].on_event('click', switch_to_firstCode)\n",
    "list_itemsCode[3].on_event('click', switch_to_secondCode)\n",
    "list_itemsCode[4].on_event('click', switch_to_bugs)\n"
   ]
  },
  {
   "cell_type": "code",
   "execution_count": 111,
   "id": "71307ae6",
   "metadata": {},
   "outputs": [],
   "source": [
    "def switch_to_firstHome(*args):\n",
    "    appbar_title.children = ['Code Blindspots']\n",
    "    appbar_subtitle.children = ['Code Blindspots']\n",
    "    content_main.children = [pageHelpCode]\n",
    "    content_nav.children = list_itemsCode\n",
    "    \n",
    "def switch_to_secondHome(*args):\n",
    "    appbar_title.children = ['Model Blindspots']\n",
    "    appbar_subtitle.children = ['Model Blindspots']    \n",
    "    content_main.children = [pageHelpModel]\n",
    "    content_nav.children = list_itemsModel\n",
    "    \n",
    "\n",
    "list_itemsHome[0].on_event('click', switch_to_firstHome)\n",
    "list_itemsHome[1].on_event('click', switch_to_secondHome)\n"
   ]
  },
  {
   "cell_type": "code",
   "execution_count": 112,
   "id": "a6c48fdd",
   "metadata": {},
   "outputs": [
    {
     "data": {
      "application/vnd.jupyter.widget-view+json": {
       "model_id": "03d71ace668d4770a6e3592ceed29e48",
       "version_major": 2,
       "version_minor": 0
      },
      "text/plain": [
       "Layout(children=[Layout(align_center=True, children=[Flex(children=[Container(children=[Html(attributes={'para…"
      ]
     },
     "metadata": {},
     "output_type": "display_data"
    }
   ],
   "source": [
    "content_main"
   ]
  }
 ],
 "metadata": {
  "kernelspec": {
   "display_name": "Python 3 (ipykernel)",
   "language": "python",
   "name": "python3"
  },
  "language_info": {
   "codemirror_mode": {
    "name": "ipython",
    "version": 3
   },
   "file_extension": ".py",
   "mimetype": "text/x-python",
   "name": "python",
   "nbconvert_exporter": "python",
   "pygments_lexer": "ipython3",
   "version": "3.9.13"
  },
  "toc": {
   "base_numbering": 1,
   "nav_menu": {},
   "number_sections": true,
   "sideBar": true,
   "skip_h1_title": false,
   "title_cell": "Table of Contents",
   "title_sidebar": "Contents",
   "toc_cell": false,
   "toc_position": {},
   "toc_section_display": true,
   "toc_window_display": true
  }
 },
 "nbformat": 4,
 "nbformat_minor": 5
}
